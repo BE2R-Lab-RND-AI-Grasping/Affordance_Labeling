{
 "cells": [
  {
   "cell_type": "code",
   "execution_count": 7,
   "id": "631be021",
   "metadata": {},
   "outputs": [
    {
     "data": {
      "text/plain": [
       "TriangleMesh with 428 points and 844 triangles."
      ]
     },
     "execution_count": 7,
     "metadata": {},
     "output_type": "execute_result"
    }
   ],
   "source": [
    "from src import object_render\n",
    "from pathlib import Path\n",
    "from src import model_save_load\n",
    "import numpy as np\n",
    "import open3d as o3d\n",
    "from src import point_cloud_utils\n",
    "\n",
    "data_dir = Path(\"./data/hammer_2\")\n",
    "depth_dir = data_dir/\"depths\"\n",
    "render_dir = data_dir/\"renders\"\n",
    "mesh_file = data_dir / \"object_convex_decomposition.obj\"\n",
    "mesh_o3d, mesh_trimesh, info = model_save_load.load_mesh(mesh_file, vis=False)\n",
    "mesh_o3d.translate(-mesh_o3d.get_center())"
   ]
  },
  {
   "cell_type": "code",
   "execution_count": 8,
   "id": "4bfe4857",
   "metadata": {},
   "outputs": [],
   "source": [
    "point_cloud_utils.create_masked_depths(depth_dir)\n"
   ]
  },
  {
   "cell_type": "code",
   "execution_count": 9,
   "id": "06fdcf2e",
   "metadata": {},
   "outputs": [],
   "source": [
    "params = o3d.io.read_pinhole_camera_parameters(data_dir/\"renders/camera_params.json\")\n",
    "directions = np.load(render_dir / \"directions.npy\")\n",
    "max_ind_list = np.load(depth_dir / \"max_ind_list.npy\")\n",
    "total_pcd, pcd_list = point_cloud_utils.process_masked_depths(depth_dir, directions, max_ind_list, params)"
   ]
  },
  {
   "cell_type": "code",
   "execution_count": null,
   "id": "85578796",
   "metadata": {},
   "outputs": [],
   "source": [
    "len(pcd_list)\n",
    "for i, pcd in enumerate(pcd_list):\n",
    "    pcd.paint_uniform_color(np.random.rand(3))\n",
    "o3d.visualization.draw_geometries(pcd_list+[mesh_o3d])"
   ]
  },
  {
   "cell_type": "code",
   "execution_count": 11,
   "id": "6cbfc80f",
   "metadata": {},
   "outputs": [],
   "source": [
    "o3d.visualization.draw_geometries([pcd_list[1],mesh_o3d])"
   ]
  },
  {
   "cell_type": "code",
   "execution_count": null,
   "id": "bb889f7a",
   "metadata": {},
   "outputs": [],
   "source": [
    "o3d.visualization.draw_geometries([mesh_o3d, total_pcd])"
   ]
  }
 ],
 "metadata": {
  "kernelspec": {
   "display_name": "point_cloud",
   "language": "python",
   "name": "python3"
  },
  "language_info": {
   "codemirror_mode": {
    "name": "ipython",
    "version": 3
   },
   "file_extension": ".py",
   "mimetype": "text/x-python",
   "name": "python",
   "nbconvert_exporter": "python",
   "pygments_lexer": "ipython3",
   "version": "3.9.21"
  }
 },
 "nbformat": 4,
 "nbformat_minor": 5
}
