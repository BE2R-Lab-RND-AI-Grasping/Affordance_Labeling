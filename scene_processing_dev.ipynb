{
 "cells": [
  {
   "cell_type": "code",
   "execution_count": null,
   "id": "24af9c56",
   "metadata": {},
   "outputs": [],
   "source": [
    "import importlib\n",
    "import numpy as np\n",
    "import cv2\n",
    "from pathlib import Path\n",
    "from matplotlib import pyplot as plt\n",
    "from src.object_detection import get_bounding_boxes_dino\n",
    "from src import bbox_utils\n",
    "importlib.reload(bbox_utils)\n",
    "\n",
    "# from src.hand_search import get_hand_bbox"
   ]
  },
  {
   "cell_type": "code",
   "execution_count": null,
   "id": "1cdb9ee3",
   "metadata": {},
   "outputs": [],
   "source": [
    "from src import hand_search\n",
    "importlib.reload(hand_search)"
   ]
  },
  {
   "cell_type": "code",
   "execution_count": null,
   "id": "d0c107d3",
   "metadata": {},
   "outputs": [],
   "source": [
    "data_dir = Path(\"./data/hammer_1\")\n",
    "scene_image_path = data_dir/\"scenes/hold_hammer_011129.jpg\"\n",
    "scene_image = cv2.imread(scene_image_path)\n",
    "scene_image = cv2.cvtColor(scene_image, cv2.COLOR_BGR2RGB)\n",
    "# cv2.imwrite(\"scene_image.jpg\", scene_image)\n",
    "\n",
    "plt.imshow(scene_image)"
   ]
  },
  {
   "cell_type": "code",
   "execution_count": null,
   "id": "e23345a7",
   "metadata": {},
   "outputs": [],
   "source": [
    "hand_bbox = np.round(hand_search.get_hand_bbox(scene_image, bboxes[0], vis=True))\n",
    "hand_bbox"
   ]
  },
  {
   "cell_type": "code",
   "execution_count": null,
   "id": "fc0e6e1d",
   "metadata": {},
   "outputs": [],
   "source": [
    "bboxes, scores = get_bounding_boxes_dino(scene_image, \"hammer\")"
   ]
  },
  {
   "cell_type": "code",
   "execution_count": null,
   "id": "5d71b2a8",
   "metadata": {},
   "outputs": [],
   "source": [
    "print(bboxes, scores)"
   ]
  },
  {
   "cell_type": "code",
   "execution_count": null,
   "id": "f6702ec7",
   "metadata": {},
   "outputs": [],
   "source": [
    "vis_scene_image  = scene_image.copy()\n",
    "bbox_utils.add_bbox(vis_scene_image, np.asarray(bboxes[0],dtype='int32') , color=(0, 255, 0), thickness=2)\n",
    "\n",
    "plt.imshow(vis_scene_image)"
   ]
  },
  {
   "cell_type": "code",
   "execution_count": null,
   "id": "356a5db2",
   "metadata": {},
   "outputs": [],
   "source": [
    "from src.segmentation_utils import get_masks_sam\n",
    "\n",
    "masks, scores = get_masks_sam(scene_image, list(bboxes[0]))\n",
    "print(masks, scores)"
   ]
  },
  {
   "cell_type": "code",
   "execution_count": null,
   "id": "b291a796",
   "metadata": {},
   "outputs": [],
   "source": [
    "masks.shape"
   ]
  },
  {
   "cell_type": "code",
   "execution_count": null,
   "id": "690fb795",
   "metadata": {},
   "outputs": [],
   "source": [
    "mask = masks[0][1]\n",
    "# Convert to RGB image\n",
    "rgb_image = np.zeros((*mask.shape, 3), dtype=np.uint8)  # Initialize as black\n",
    "\n",
    "# Set 0 (background) → White\n",
    "rgb_image[mask == 0] = [255, 255, 255]  \n",
    "\n",
    "# Set 1 (object) → Gray\n",
    "rgb_image[mask == 1] = [128, 128, 128]  \n",
    "\n",
    "plt.imshow(rgb_image)\n",
    "plt.axis('off')\n",
    "# plt.imsave(data_dir/\"mask.png\", rgb_image)"
   ]
  },
  {
   "cell_type": "code",
   "execution_count": null,
   "id": "5f65480f",
   "metadata": {},
   "outputs": [],
   "source": [
    "from PIL import Image\n",
    "\n",
    "def resize_to_match_longer_side(img_src, img_target, bbox=None):\n",
    "    \"\"\"\n",
    "    Resizes img_target so that its longer side matches img_src's longer side.\n",
    "    Also rescales a bounding box if provided.\n",
    "\n",
    "    Parameters:\n",
    "    - img_src: PIL.Image (reference image)\n",
    "    - img_target: PIL.Image (image to resize)\n",
    "    - bbox: tuple (x1, y1, x2, y2) in original img_target coords\n",
    "\n",
    "    Returns:\n",
    "    - resized_img: PIL.Image (resized target image)\n",
    "    - resized_bbox: tuple (x1, y1, x2, y2) in resized image coords (if bbox is given)\n",
    "    \"\"\"\n",
    "    w1, h1 = img_src.size\n",
    "    w2, h2 = img_target.size\n",
    "\n",
    "    # Compute scale to match longer side\n",
    "    scale = max(w1, h1) / max(w2, h2)\n",
    "    new_size = (int(w2 * scale), int(h2 * scale))\n",
    "\n",
    "    # Resize image\n",
    "    resized_img = img_target.resize(new_size, Image.Resampling.LANCZOS)\n",
    "\n",
    "    # Scale bounding box if provided\n",
    "    resized_bbox = None\n",
    "    if bbox is not None:\n",
    "        x1, y1, x2, y2 = bbox\n",
    "        resized_bbox = (\n",
    "            int(x1 * scale),\n",
    "            int(y1 * scale),\n",
    "            int(x2 * scale),\n",
    "            int(y2 * scale)\n",
    "        )\n",
    "\n",
    "    return resized_img, resized_bbox\n",
    "\n",
    "image1 = Image.open(data_dir/\"render.png\")\n",
    "image2 = Image.open(data_dir/\"mask.png\")"
   ]
  },
  {
   "cell_type": "code",
   "execution_count": null,
   "id": "0f233ab7",
   "metadata": {},
   "outputs": [],
   "source": [
    "image2"
   ]
  },
  {
   "cell_type": "code",
   "execution_count": null,
   "id": "c0685292",
   "metadata": {},
   "outputs": [],
   "source": [
    "mask_rescaled, hand_bbox_rescaled = resize_to_match_longer_side(image1, image2, hand_bbox)\n",
    "# mask_rescaled.save(data_dir/\"mask_rescaled.png\")"
   ]
  },
  {
   "cell_type": "code",
   "execution_count": null,
   "id": "fc033ca4",
   "metadata": {},
   "outputs": [],
   "source": [
    "\n",
    "def paint_bounding_box(image, bbox, color):\n",
    "    \"\"\"\n",
    "    Paint all points inside the bounding box with the specified color.\n",
    "\n",
    "    Parameters:\n",
    "    - image: PIL.Image object.\n",
    "    - bbox: Bounding box tuple (x1, y1, x2, y2) (top-left to bottom-right).\n",
    "    - color: The color to paint inside the box (e.g., (255, 0, 0) for red).\n",
    "\n",
    "    Returns:\n",
    "    - painted_image: A new PIL.Image with the painted box.\n",
    "    \"\"\"\n",
    "    # Create a copy of the image to avoid modifying the original\n",
    "    painted_image = image.copy()\n",
    "    draw = ImageDraw.Draw(painted_image)\n",
    "\n",
    "    # Get the bounding box coordinates\n",
    "    x1, y1, x2, y2 = bbox\n",
    "\n",
    "    # Paint the area inside the bounding box with the specified color\n",
    "    for x in range(x1, x2):\n",
    "        for y in range(y1, y2):\n",
    "            draw.point((x, y), fill=color)\n",
    "\n",
    "    return painted_image\n",
    "\n",
    "# Example usage:\n",
    "# Open an image\n",
    "image = mask_rescaled\n",
    "\n",
    "# Define the bounding box (x1, y1, x2, y2)\n",
    "bbox = hand_bbox_rescaled\n",
    "\n",
    "# Define the color (e.g., red)\n",
    "color = (255, 0, 0)\n",
    "\n",
    "# Apply the painting function\n",
    "painted_image = paint_bounding_box(image, bbox, color)\n",
    "\n",
    "# Save the new image\n",
    "painted_image.save(\"painted_image.png\")\n",
    "\n",
    "# Optionally, display it\n",
    "painted_image.show()"
   ]
  },
  {
   "cell_type": "code",
   "execution_count": null,
   "id": "829cc548",
   "metadata": {},
   "outputs": [],
   "source": [
    "from src import feature_matching \n",
    "importlib.reload(feature_matching)\n",
    "# import get_matching_transformation, bbox_to_corners, transform_corners\n",
    "M = feature_matching.get_matching_transformation(image1, mask_rescaled, vis=True)\n",
    "# H = np.load(data_dir/\"homography_matrix.npy\")\n",
    "# M = np.load(data_dir/\"affine_matrix.npy\")\n",
    "corners = feature_matching.bbox_to_corners(hand_bbox_rescaled)\n",
    "# corners = np.array([[600,250],[900,250],[900,450],[600,450]])\n",
    "# transformed_corners = feature_matching.transform_corners(corners, H)\n",
    "transformed_corners = feature_matching.transform_corners_affine(corners, M)\n",
    "\n",
    "transformed_corners\n"
   ]
  },
  {
   "cell_type": "code",
   "execution_count": null,
   "id": "f1406ac8",
   "metadata": {},
   "outputs": [],
   "source": [
    "import cv2\n",
    "\n",
    "# Load the image\n",
    "image = np.array(mask_rescaled)\n",
    "gray = cv2.cvtColor(image, cv2.COLOR_BGR2GRAY)\n",
    "\n",
    "# Invert threshold: detect gray object on white background\n",
    "_, thresh = cv2.threshold(gray, 200, 255, cv2.THRESH_BINARY_INV)\n",
    "\n",
    "# Find contours\n",
    "contours, _ = cv2.findContours(thresh, cv2.RETR_EXTERNAL, cv2.CHAIN_APPROX_SIMPLE)\n",
    "\n",
    "# Draw rotated bounding rectangles\n",
    "for contour in contours:\n",
    "    if cv2.contourArea(contour) > 500:  # Optional: Filter by area\n",
    "        # Get the rotated bounding rectangle\n",
    "        rect = cv2.minAreaRect(contour)\n",
    "        box = cv2.boxPoints(rect)  # Get the 4 points of the rectangle\n",
    "        box = np.int0(box)  # Convert to integer points for drawing\n",
    "\n",
    "        # Draw the rotated bounding box\n",
    "        cv2.drawContours(image, [box], 0, (0, 255, 0), 2)\n",
    "\n",
    "# Show result\n",
    "cv2.imshow('Rotated Bounding Rectangles', image)\n",
    "cv2.waitKey(0)\n",
    "cv2.destroyAllWindows()"
   ]
  },
  {
   "cell_type": "code",
   "execution_count": null,
   "id": "e9c19412",
   "metadata": {},
   "outputs": [],
   "source": [
    "# Invert threshold: detect gray object on white background\n",
    "_, thresh = cv2.threshold(gray, 200, 255, cv2.THRESH_BINARY_INV)\n",
    "\n",
    "# Find contours\n",
    "contours, _ = cv2.findContours(thresh, cv2.RETR_EXTERNAL, cv2.CHAIN_APPROX_SIMPLE)\n",
    "\n",
    "# Combine all contours into one large set of points\n",
    "all_points = np.concatenate(contours)  # Concatenate all points of the contours\n",
    "\n",
    "# Get the rotated bounding rectangle for all contours\n",
    "rect = cv2.minAreaRect(all_points)\n",
    "box = cv2.boxPoints(rect)  # Get the 4 points of the rectangle\n",
    "box = np.int0(box)  # Convert points to integer\n",
    "\n",
    "# Draw the rotated bounding rectangle on the image\n",
    "cv2.drawContours(image, [box], 0, (0, 255, 0), 2)\n",
    "\n",
    "# Show the result\n",
    "cv2.imshow('Minimum Rotated Bounding Rectangle for All Objects', image)\n",
    "cv2.waitKey(0)\n",
    "cv2.destroyAllWindows()"
   ]
  },
  {
   "cell_type": "code",
   "execution_count": null,
   "id": "1b5b0322",
   "metadata": {},
   "outputs": [],
   "source": [
    "rect"
   ]
  },
  {
   "cell_type": "code",
   "execution_count": null,
   "id": "6a3f4d17",
   "metadata": {},
   "outputs": [],
   "source": [
    "w2 = rect[1][0] / 2\n",
    "h2 = rect[1][1]/ 2\n",
    "points = np.array([\n",
    "    [-w2, -h2],  # top-left\n",
    "    [ w2, -h2],  # top-right\n",
    "    [ w2,  h2],  # bottom-right\n",
    "    [-w2,  h2],  # bottom-left\n",
    "])\n",
    "theta = np.deg2rad(rect[2])\n",
    "R = np.array([\n",
    "    [np.cos(theta), -np.sin(theta)],\n",
    "    [np.sin(theta),  np.cos(theta)]\n",
    "])\n",
    "rotated_points = np.dot(points, R.T)"
   ]
  },
  {
   "cell_type": "code",
   "execution_count": null,
   "id": "1c1e24f2",
   "metadata": {},
   "outputs": [],
   "source": [
    "final_points = rotated_points + np.array([rect[0][0], rect[0][1]])\n",
    "final_points = np.int0(final_points)\n",
    "final_points"
   ]
  },
  {
   "cell_type": "code",
   "execution_count": null,
   "id": "34bc2417",
   "metadata": {},
   "outputs": [],
   "source": [
    "box = cv2.boxPoints(rect) \n",
    "box"
   ]
  },
  {
   "cell_type": "code",
   "execution_count": null,
   "id": "6a653d81",
   "metadata": {},
   "outputs": [],
   "source": [
    "def compute_homography(matched_pts_img1, matched_pts_img2):\n",
    "    \"\"\"\n",
    "    Computes a homography matrix H that maps points from image2 to image1.\n",
    "    \"\"\"\n",
    "    if len(matched_pts_img1) >= 4:\n",
    "        H, mask = cv2.findHomography(matched_pts_img2, matched_pts_img1, cv2.RANSAC, 5.0)\n",
    "        return H, mask\n",
    "    else:\n",
    "        raise ValueError(\"At least 4 point correspondences are required to compute homography.\")\n",
    "    \n",
    "\n",
    "H, mask = compute_homography(feature_matching.bbox_to_corners(np.array([569, 394, 1357, 684])), final_points)"
   ]
  },
  {
   "cell_type": "code",
   "execution_count": null,
   "id": "d3c68a1a",
   "metadata": {},
   "outputs": [],
   "source": [
    "transformed_corners = feature_matching.transform_corners(corners, H)"
   ]
  },
  {
   "cell_type": "code",
   "execution_count": null,
   "id": "43cf7e5c",
   "metadata": {},
   "outputs": [],
   "source": [
    "feature_matching.bbox_to_corners(np.array([569, 394, 1357, 684]))"
   ]
  },
  {
   "cell_type": "code",
   "execution_count": null,
   "id": "dd956a75",
   "metadata": {},
   "outputs": [],
   "source": [
    "box"
   ]
  },
  {
   "cell_type": "code",
   "execution_count": null,
   "id": "45093596",
   "metadata": {},
   "outputs": [],
   "source": [
    "box"
   ]
  },
  {
   "cell_type": "code",
   "execution_count": null,
   "id": "ab8b92ba",
   "metadata": {},
   "outputs": [],
   "source": [
    "box"
   ]
  },
  {
   "cell_type": "code",
   "execution_count": null,
   "id": "e9af4c40",
   "metadata": {},
   "outputs": [],
   "source": [
    "feature_matching.apply_homography(H,corners[1])"
   ]
  },
  {
   "cell_type": "code",
   "execution_count": null,
   "id": "dd163535",
   "metadata": {},
   "outputs": [],
   "source": [
    "corners = np.array([[600,250],[900,250],[900,450],[600,450]])\n",
    "corners=np.round(corners).astype(int)\n",
    "c = [(corner[0], corner[1]) for corner in corners]"
   ]
  },
  {
   "cell_type": "code",
   "execution_count": null,
   "id": "3d66481e",
   "metadata": {},
   "outputs": [],
   "source": [
    "import cv2\n",
    "image1 = Image.open(data_dir/\"render.png\")"
   ]
  },
  {
   "cell_type": "code",
   "execution_count": null,
   "id": "5bc85203",
   "metadata": {},
   "outputs": [],
   "source": [
    "tc = [(int(corner[0]), int(corner[1])) for corner in transformed_corners]"
   ]
  },
  {
   "cell_type": "code",
   "execution_count": null,
   "id": "935a2e68",
   "metadata": {},
   "outputs": [],
   "source": [
    "from PIL import ImageDraw\n",
    "# image = Image.fromarray(object_image)\n",
    "draw = ImageDraw.Draw(image1)\n",
    "draw.polygon(tc, outline=\"green\", width=2)\n",
    "image1.show()"
   ]
  },
  {
   "cell_type": "code",
   "execution_count": null,
   "id": "fd3e37c8",
   "metadata": {},
   "outputs": [],
   "source": [
    "from PIL import ImageDraw\n",
    "# image = Image.fromarray(object_image)\n",
    "draw = ImageDraw.Draw(mask_rescaled)\n",
    "draw.polygon(c, outline=\"green\", width=2)\n",
    "mask_rescaled.show()"
   ]
  },
  {
   "cell_type": "code",
   "execution_count": null,
   "id": "d10c73db",
   "metadata": {},
   "outputs": [],
   "source": [
    "def apply_homography(H, point):\n",
    "    \"\"\"\n",
    "    Applies homography matrix H to a 2D point (x, y).\n",
    "    Returns the transformed point in image1 coordinates.\n",
    "    \"\"\"\n",
    "    point_hom = np.array([point[0], point[1], 1.0])\n",
    "    transformed = H @ point_hom\n",
    "    transformed /= transformed[2]  # Normalize by last coordinate\n",
    "    return transformed[:2]"
   ]
  },
  {
   "cell_type": "code",
   "execution_count": null,
   "id": "64ca0f8f",
   "metadata": {},
   "outputs": [],
   "source": [
    "apply_homography(H, corners[0])"
   ]
  }
 ],
 "metadata": {
  "kernelspec": {
   "display_name": "point_cloud",
   "language": "python",
   "name": "python3"
  },
  "language_info": {
   "codemirror_mode": {
    "name": "ipython",
    "version": 3
   },
   "file_extension": ".py",
   "mimetype": "text/x-python",
   "name": "python",
   "nbconvert_exporter": "python",
   "pygments_lexer": "ipython3",
   "version": "3.12.9"
  }
 },
 "nbformat": 4,
 "nbformat_minor": 5
}
