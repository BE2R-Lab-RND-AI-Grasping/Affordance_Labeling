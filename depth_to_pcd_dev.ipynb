{
 "cells": [
  {
   "cell_type": "code",
   "execution_count": 31,
   "id": "5222b8f4",
   "metadata": {},
   "outputs": [],
   "source": [
    "from src import object_render\n",
    "from pathlib import Path\n",
    "from src import model_save_load\n",
    "import numpy as np\n",
    "import open3d as o3d\n",
    "data_dir = Path(\"./data/hammer_1\")\n",
    "depth_dir = data_dir/\"depths\"\n",
    "render_dir = data_dir/\"renders\"\n",
    "mesh_file = data_dir / \"object_convex_decomposition.obj\"\n",
    "mesh_o3d, mesh_trimesh, info = model_save_load.load_mesh(mesh_file, vis=False)"
   ]
  },
  {
   "cell_type": "code",
   "execution_count": 32,
   "id": "9cff8704",
   "metadata": {},
   "outputs": [
    {
     "data": {
      "text/plain": [
       "TriangleMesh with 623 points and 1230 triangles."
      ]
     },
     "execution_count": 32,
     "metadata": {},
     "output_type": "execute_result"
    }
   ],
   "source": [
    "mesh_o3d.translate(-mesh_o3d.get_center())\n"
   ]
  },
  {
   "cell_type": "code",
   "execution_count": 33,
   "id": "9c0e2c20",
   "metadata": {},
   "outputs": [],
   "source": [
    "file_name = depth_dir/\"depth_1.png\"\n",
    "depth_mask_file_name = depth_dir/\"depth_mask_1.npy\"\n",
    "depth = o3d.io.read_image(file_name)"
   ]
  },
  {
   "cell_type": "code",
   "execution_count": 34,
   "id": "3b78a4ac",
   "metadata": {},
   "outputs": [],
   "source": [
    "depth_mask = np.load(depth_mask_file_name)\n",
    "mask = depth_mask.astype(\"bool\")\n",
    "depth_array = np.asarray(depth)\n",
    "masked_depth_array = depth_array * depth_mask"
   ]
  },
  {
   "cell_type": "code",
   "execution_count": 37,
   "id": "66fd0dda",
   "metadata": {},
   "outputs": [
    {
     "data": {
      "text/plain": [
       "array([[0., 0., 0., ..., 0., 0., 0.],\n",
       "       [0., 0., 0., ..., 0., 0., 0.],\n",
       "       [0., 0., 0., ..., 0., 0., 0.],\n",
       "       ...,\n",
       "       [0., 0., 0., ..., 0., 0., 0.],\n",
       "       [0., 0., 0., ..., 0., 0., 0.],\n",
       "       [0., 0., 0., ..., 0., 0., 0.]])"
      ]
     },
     "execution_count": 37,
     "metadata": {},
     "output_type": "execute_result"
    }
   ],
   "source": [
    "depth_mask"
   ]
  },
  {
   "cell_type": "code",
   "execution_count": 35,
   "id": "0f12082f",
   "metadata": {},
   "outputs": [
    {
     "data": {
      "text/plain": [
       "(1080, 1920)"
      ]
     },
     "execution_count": 35,
     "metadata": {},
     "output_type": "execute_result"
    }
   ],
   "source": [
    "masked_depth_array.shape"
   ]
  },
  {
   "cell_type": "code",
   "execution_count": 36,
   "id": "e088b05f",
   "metadata": {},
   "outputs": [
    {
     "ename": "RuntimeError",
     "evalue": "Image can only be initialized from buffer of uint8, uint16, or float!",
     "output_type": "error",
     "traceback": [
      "\u001b[31m---------------------------------------------------------------------------\u001b[39m",
      "\u001b[31mRuntimeError\u001b[39m                              Traceback (most recent call last)",
      "\u001b[36mCell\u001b[39m\u001b[36m \u001b[39m\u001b[32mIn[36]\u001b[39m\u001b[32m, line 1\u001b[39m\n\u001b[32m----> \u001b[39m\u001b[32m1\u001b[39m o3d.io.write_image(data_dir/\u001b[33m\"\u001b[39m\u001b[33mmasked_depth.png\u001b[39m\u001b[33m\"\u001b[39m,\u001b[43mo3d\u001b[49m\u001b[43m.\u001b[49m\u001b[43mgeometry\u001b[49m\u001b[43m.\u001b[49m\u001b[43mImage\u001b[49m\u001b[43m(\u001b[49m\u001b[43mmasked_depth_array\u001b[49m\u001b[43m)\u001b[49m)\n",
      "\u001b[31mRuntimeError\u001b[39m: Image can only be initialized from buffer of uint8, uint16, or float!"
     ]
    }
   ],
   "source": [
    "o3d.io.write_image(data_dir/\"masked_depth.png\",o3d.geometry.Image(masked_depth_array))"
   ]
  },
  {
   "cell_type": "code",
   "execution_count": null,
   "id": "c104ff17",
   "metadata": {},
   "outputs": [],
   "source": [
    "\n"
   ]
  },
  {
   "cell_type": "code",
   "execution_count": 38,
   "id": "268bf9e9",
   "metadata": {},
   "outputs": [],
   "source": [
    "from src import point_cloud_utils\n",
    "depth_image_masked = o3d.io.read_image(data_dir/\"masked_depth.png\")\n",
    "params = o3d.io.read_pinhole_camera_parameters(data_dir/\"renders/camera_params.json\")\n",
    "labeling_pcd = o3d.geometry.PointCloud.create_from_depth_image(depth_image_masked, depth_scale=10, intrinsic=params.intrinsic, extrinsic=params.extrinsic, depth_trunc=1000.0)\n",
    "labeling_pcd.paint_uniform_color([1, 0, 0])\n",
    "directions = np.load(render_dir / \"directions.npy\")\n",
    "max_ind_list = np.load(depth_dir / \"max_ind_list.npy\")\n",
    "max_ind = max_ind_list[2]\n",
    "direction, rot = directions[max_ind][:-1], directions[max_ind][-1]\n",
    "point_cloud_utils.rotate_back(direction, rot, labeling_pcd)\n",
    "o3d.visualization.draw_geometries([mesh_o3d, labeling_pcd])"
   ]
  }
 ],
 "metadata": {
  "kernelspec": {
   "display_name": "point_cloud",
   "language": "python",
   "name": "python3"
  },
  "language_info": {
   "codemirror_mode": {
    "name": "ipython",
    "version": 3
   },
   "file_extension": ".py",
   "mimetype": "text/x-python",
   "name": "python",
   "nbconvert_exporter": "python",
   "pygments_lexer": "ipython3",
   "version": "3.12.9"
  }
 },
 "nbformat": 4,
 "nbformat_minor": 5
}
