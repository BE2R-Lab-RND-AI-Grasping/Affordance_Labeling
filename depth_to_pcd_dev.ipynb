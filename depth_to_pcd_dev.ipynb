{
 "cells": [
  {
   "cell_type": "code",
   "execution_count": null,
   "id": "5222b8f4",
   "metadata": {},
   "outputs": [],
   "source": [
    "from src import object_render\n",
    "from pathlib import Path\n",
    "from src import model_save_load\n",
    "import numpy as np\n",
    "import open3d as o3d\n",
    "data_dir = Path(\"./data/hammer_1\")\n",
    "depth_dir = data_dir/\"depths\""
   ]
  },
  {
   "cell_type": "code",
   "execution_count": null,
   "id": "9c0e2c20",
   "metadata": {},
   "outputs": [],
   "source": [
    "file_name = depth_dir/\"depth_0.png\"\n",
    "depth_mask_file_name = depth_dir/\"depth_mask_0.npy\"\n",
    "depth = o3d.io.read_image(file_name)"
   ]
  },
  {
   "cell_type": "code",
   "execution_count": null,
   "id": "3b78a4ac",
   "metadata": {},
   "outputs": [],
   "source": [
    "depth_mask = np.load(depth_mask_file_name)\n",
    "mask = depth_mask.astype(\"bool\")\n",
    "depth_array = np.asarray(depth)\n",
    "masked_depth_array = depth_array * mask"
   ]
  },
  {
   "cell_type": "code",
   "execution_count": null,
   "id": "0f12082f",
   "metadata": {},
   "outputs": [],
   "source": [
    "masked_depth_array.shape"
   ]
  },
  {
   "cell_type": "code",
   "execution_count": null,
   "id": "e088b05f",
   "metadata": {},
   "outputs": [],
   "source": [
    "o3d.io.write_image(data_dir/\"masked_depth.png\",o3d.geometry.Image(masked_depth_array))"
   ]
  },
  {
   "cell_type": "code",
   "execution_count": null,
   "id": "268bf9e9",
   "metadata": {},
   "outputs": [],
   "source": [
    "1080*1920"
   ]
  }
 ],
 "metadata": {
  "kernelspec": {
   "display_name": "point_cloud",
   "language": "python",
   "name": "python3"
  },
  "language_info": {
   "codemirror_mode": {
    "name": "ipython",
    "version": 3
   },
   "file_extension": ".py",
   "mimetype": "text/x-python",
   "name": "python",
   "nbconvert_exporter": "python",
   "pygments_lexer": "ipython3",
   "version": "3.9.21"
  }
 },
 "nbformat": 4,
 "nbformat_minor": 5
}
