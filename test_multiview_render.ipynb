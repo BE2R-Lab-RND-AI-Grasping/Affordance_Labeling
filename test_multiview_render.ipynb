{
 "cells": [
  {
   "cell_type": "code",
   "execution_count": null,
   "metadata": {},
   "outputs": [],
   "source": [
    "from pathlib import Path\n",
    "import importlib\n",
    "import open3d as o3d\n",
    "import numpy as np\n",
    "import cv2\n",
    "import matplotlib.pyplot as plt\n",
    "from src import object_render\n",
    "importlib.reload(object_render)\n",
    "from src import model_save_load\n",
    "importlib.reload(model_save_load)\n",
    "from src import object_detection\n",
    "importlib.reload(object_detection)\n",
    "from src import bbox_utils\n",
    "importlib.reload(bbox_utils)\n"
   ]
  },
  {
   "cell_type": "code",
   "execution_count": null,
   "metadata": {},
   "outputs": [],
   "source": [
    "data_dir = Path(\"./data/hammer\")\n",
    "mesh_file = data_dir / \"object_convex_decomposition.obj\"\n",
    "mesh_o3d, mesh_trimesh, info = model_save_load.load_mesh(mesh_file, vis=False)"
   ]
  },
  {
   "cell_type": "code",
   "execution_count": null,
   "metadata": {},
   "outputs": [],
   "source": [
    "object_render.get_render([1,1,0], 30, mesh_o3d, data_dir/\"example\")"
   ]
  },
  {
   "cell_type": "code",
   "execution_count": null,
   "metadata": {},
   "outputs": [],
   "source": [
    "azimuth_samples = np.linspace(0,360,20,endpoint=False)\n",
    "elevation_cos = np.linspace(-1,1,10,endpoint=True)\n",
    "elevation_samples = (np.rad2deg(np.arccos(elevation_cos))).astype(\"int32\")\n",
    "rotation_samples = np.linspace(0, 360, 20,endpoint=False)\n"
   ]
  },
  {
   "cell_type": "code",
   "execution_count": null,
   "metadata": {},
   "outputs": [],
   "source": [
    "elevation_samples"
   ]
  },
  {
   "cell_type": "code",
   "execution_count": null,
   "metadata": {},
   "outputs": [],
   "source": [
    "for elevation in elevation_samples:\n",
    "    if elevation==0 or elevation==180:\n",
    "        for rot in rotation_samples:\n",
    "            object_render.get_render([0,0,np.cos(np.radians(elevation))], rot, mesh_o3d,data_dir/\"renders\")\n",
    "    else:\n",
    "        for azimuth in azimuth_samples:\n",
    "            for rot in rotation_samples:\n",
    "                object_render.get_render([np.cos(np.radians(azimuth))*np.sin(np.radians(elevation)),np.sin(np.radians(azimuth))*np.sin(np.radians(elevation)),np.cos(np.radians(elevation))], rot, mesh_o3d,data_dir/\"renders\")\n"
   ]
  },
  {
   "cell_type": "code",
   "execution_count": null,
   "metadata": {},
   "outputs": [],
   "source": [
    "render_dir = data_dir/\"renders\"\n",
    "render_iter = render_dir.glob(\"render_*\")\n",
    "path_list= list(render_iter)\n",
    "len(path_list)"
   ]
  },
  {
   "cell_type": "code",
   "execution_count": null,
   "metadata": {},
   "outputs": [],
   "source": [
    "image = cv2.imread(next(render_iter))\n",
    "bbox = object_detection.detect_object_with_opencv(image, vis =True)\n",
    "croped_image = bbox_utils.crop_bbox_cv2(image,bbox)\n",
    "\n",
    "# cv2.imshow('Matches', image)\n",
    "# cv2.waitKey(0)\n",
    "# cv2.destroyAllWindows()"
   ]
  },
  {
   "cell_type": "code",
   "execution_count": null,
   "metadata": {},
   "outputs": [],
   "source": [
    "image = cv2.imread(data_dir/\"mask.png\")\n",
    "image = bbox_utils.add_bbox_to_image(image, np.array([225, 158, 275, 222]))\n",
    "bbox = bbox_utils.get_total_bounding_box(image,background_white=True)\n",
    "croped_image_scene = bbox_utils.crop_bbox_cv2(image,bbox)"
   ]
  },
  {
   "cell_type": "code",
   "execution_count": null,
   "metadata": {},
   "outputs": [],
   "source": [
    "plt.imshow(croped_image_scene)"
   ]
  },
  {
   "cell_type": "code",
   "execution_count": null,
   "metadata": {},
   "outputs": [],
   "source": [
    "\n",
    "mask = np.all(croped_image_scene==np.array([200,200,200]), axis=-1)\n",
    "croped_image_scene[mask] = [0, 0, 0]\n",
    "plt.imshow(croped_image_scene) "
   ]
  },
  {
   "cell_type": "code",
   "execution_count": null,
   "metadata": {},
   "outputs": [],
   "source": [
    "\n"
   ]
  },
  {
   "cell_type": "code",
   "execution_count": null,
   "metadata": {},
   "outputs": [],
   "source": [
    "image = cv2.imread(path_list[max_ind])\n",
    "bbox = object_detection.detect_object_with_opencv(image, vis = False)\n",
    "croped_image = bbox_utils.crop_bbox_cv2(image,bbox)\n",
    "score, mask = comparison_score(croped_image, croped_image_scene, vis=True)\n",
    "score\n",
    "\n"
   ]
  },
  {
   "cell_type": "code",
   "execution_count": null,
   "metadata": {},
   "outputs": [],
   "source": [
    "comparison_score(croped_image, croped_image_scene)"
   ]
  },
  {
   "cell_type": "code",
   "execution_count": null,
   "metadata": {},
   "outputs": [],
   "source": [
    "max_score = -np.inf\n",
    "max_ind = -1\n",
    "max_mask = None\n",
    "cropped = None\n",
    "max_bbox = None\n",
    "for i, path in enumerate(path_list):\n",
    "    image = cv2.imread(path)\n",
    "    bbox = object_detection.detect_object_with_opencv(image, vis = False)\n",
    "    croped_image = bbox_utils.crop_bbox_cv2(image,bbox)\n",
    "    score, mask = comparison_score(croped_image, croped_image_scene)\n",
    "    if score > max_score:\n",
    "        max_ind = i\n",
    "        max_mask = mask\n",
    "        cropped = croped_image \n",
    "        max_score = score\n",
    "        max_bbox = bbox\n",
    "\n"
   ]
  },
  {
   "cell_type": "code",
   "execution_count": null,
   "metadata": {},
   "outputs": [],
   "source": [
    "image.shape[:2]\n",
    "x_min,y_min, x_max,y_max = max_bbox\n",
    "initial_mask = np.zeros(image.shape[:2])\n",
    "initial_mask[y_min:y_max+1,x_min:x_max+1] = max_mask\n"
   ]
  },
  {
   "cell_type": "code",
   "execution_count": null,
   "metadata": {},
   "outputs": [],
   "source": [
    "initial_mask.astype(\"int32\")"
   ]
  },
  {
   "cell_type": "code",
   "execution_count": null,
   "metadata": {},
   "outputs": [],
   "source": [
    "cropped[max_mask] = [255, 255, 255]\n",
    "plt.imshow(cropped)"
   ]
  },
  {
   "cell_type": "code",
   "execution_count": null,
   "metadata": {},
   "outputs": [],
   "source": [
    "np.save(data_dir/\"mask.npy\", mask)\n"
   ]
  },
  {
   "cell_type": "code",
   "execution_count": null,
   "metadata": {},
   "outputs": [],
   "source": [
    "depth = o3d.io.read_image(depth_path)\n",
    "type(depth)"
   ]
  },
  {
   "cell_type": "code",
   "execution_count": null,
   "metadata": {},
   "outputs": [],
   "source": [
    "np.asarray(depth)"
   ]
  },
  {
   "cell_type": "code",
   "execution_count": null,
   "metadata": {},
   "outputs": [],
   "source": [
    "o3d.io.write_image(data_dir/\"masked_depth.png\",o3d.geometry.Image(np.asarray(depth)[initial_mask.astype(\"int32\")]))\n"
   ]
  },
  {
   "cell_type": "code",
   "execution_count": null,
   "metadata": {},
   "outputs": [],
   "source": [
    "render_dir = data_dir/\"renders\"\n",
    "render_iter = render_dir.glob(\"depth_*\")\n",
    "path_list= list(render_iter)\n",
    "len(path_list)"
   ]
  },
  {
   "cell_type": "code",
   "execution_count": null,
   "metadata": {},
   "outputs": [],
   "source": [
    "depth_path = path_list[max_ind]"
   ]
  }
 ],
 "metadata": {
  "kernelspec": {
   "display_name": "point_cloud",
   "language": "python",
   "name": "python3"
  },
  "language_info": {
   "codemirror_mode": {
    "name": "ipython",
    "version": 3
   },
   "file_extension": ".py",
   "mimetype": "text/x-python",
   "name": "python",
   "nbconvert_exporter": "python",
   "pygments_lexer": "ipython3",
   "version": "3.9.21"
  }
 },
 "nbformat": 4,
 "nbformat_minor": 2
}
