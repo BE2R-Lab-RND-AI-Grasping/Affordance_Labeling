{
 "cells": [
  {
   "cell_type": "code",
   "execution_count": null,
   "id": "431842f7",
   "metadata": {},
   "outputs": [],
   "source": [
    "import matplotlib.pyplot as plt\n",
    "import cv2\n",
    "from pathlib import Path\n",
    "import importlib\n",
    "from src import model_save_load\n",
    "import open3d as o3d\n",
    "import numpy as np\n",
    "importlib.reload(model_save_load)\n",
    "# from model_save_load import load_mesh\n",
    "from src import object_render\n",
    "importlib.reload(object_render)\n",
    "# from object_render import get_render\n",
    "from src import convex_decomposition\n",
    "importlib.reload(convex_decomposition)\n",
    "from src import object_detection\n",
    "importlib.reload(object_detection)\n",
    "from src import bbox_utils\n",
    "importlib.reload(bbox_utils)\n",
    "# from convex_decomposition import create_default_convex_decomposition\n"
   ]
  },
  {
   "cell_type": "code",
   "execution_count": null,
   "id": "273ed4cd",
   "metadata": {},
   "outputs": [],
   "source": [
    "data_dir = Path(\"./data/hammer\")\n",
    "initial_mesh_file = data_dir / \"initial_mesh.ply\"\n",
    "mesh_o3d, mesh_trimesh, info = model_save_load.load_mesh(initial_mesh_file, vis=False)"
   ]
  },
  {
   "cell_type": "code",
   "execution_count": null,
   "id": "7763cb49",
   "metadata": {},
   "outputs": [],
   "source": [
    "# decomposition can take a long time, the result is saved in the data_dir in the obj format\n",
    "if (data_dir/\"object_convex_decomposition.obj\").exists():\n",
    "    mesh = o3d.io.read_triangle_mesh(data_dir/\"object_convex_decomposition.obj\")\n",
    "else: \n",
    "    mesh = convex_decomposition.create_default_convex_decomposition(mesh_o3d, data_dir,  vis=True)"
   ]
  },
  {
   "cell_type": "code",
   "execution_count": null,
   "id": "a3c7126c",
   "metadata": {},
   "outputs": [],
   "source": [
    "o3d.visualization.draw_geometries([mesh], mesh_show_wireframe=True, mesh_show_back_face=True)"
   ]
  },
  {
   "cell_type": "code",
   "execution_count": null,
   "id": "9927052d",
   "metadata": {},
   "outputs": [],
   "source": [
    "# render the decomposed mesh\n",
    "render, depth = object_render.get_render(90, 45, mesh)\n",
    "\n",
    "cv2.imwrite(data_dir/\"render.png\", render)\n",
    "cv2.imwrite(data_dir/\"depth.png\", depth)\n",
    "plt.imshow(render)"
   ]
  },
  {
   "cell_type": "code",
   "execution_count": null,
   "id": "9444a150",
   "metadata": {},
   "outputs": [],
   "source": [
    "bbox = object_detection.detect_object_with_opencv(render, vis=False)\n",
    "croped_image = bbox_utils.crop_bbox_cv2(render, bbox)\n",
    "plt.imshow(croped_image)"
   ]
  },
  {
   "cell_type": "code",
   "execution_count": null,
   "id": "c5c23b53",
   "metadata": {},
   "outputs": [],
   "source": [
    "bbox"
   ]
  },
  {
   "cell_type": "code",
   "execution_count": null,
   "id": "1708644f",
   "metadata": {},
   "outputs": [],
   "source": [
    "bboxes = object_detection.get_bounding_boxes(render)\n",
    "vis_render  = render.copy() # copy is enough to apply the bboxes to only the vis_render\n",
    "for bbox in bboxes:\n",
    "    print(bbox)\n",
    "    bbox_utils.add_bbox(vis_render, bbox, color=(0, 255, 0), thickness=2)\n",
    "\n",
    "plt.imshow(vis_render)"
   ]
  },
  {
   "cell_type": "code",
   "execution_count": null,
   "id": "b627dd89",
   "metadata": {},
   "outputs": [],
   "source": [
    "bboxes"
   ]
  },
  {
   "cell_type": "code",
   "execution_count": null,
   "id": "29a7ddff",
   "metadata": {},
   "outputs": [],
   "source": [
    "plt.imshow(render)"
   ]
  },
  {
   "cell_type": "code",
   "execution_count": null,
   "id": "ddbb9524",
   "metadata": {},
   "outputs": [],
   "source": [
    "from src.feature_matching import get_matching_transformation, bbox_to_corners, transform_corners\n",
    "hand_bbox = np.array([225, 158, 275, 222])\n",
    "mask = cv2.imread(data_dir/\"mask.png\")\n",
    "mask = cv2.cvtColor(mask, cv2.COLOR_BGR2RGB)\n",
    "M = get_matching_transformation(render, mask, vis=True)\n",
    "corners = bbox_to_corners(hand_bbox)\n",
    "corners = transform_corners(corners, M)"
   ]
  },
  {
   "cell_type": "code",
   "execution_count": null,
   "id": "7f56e855",
   "metadata": {},
   "outputs": [],
   "source": [
    "import cv2\n",
    "import numpy as np\n",
    "\n",
    "# Load images\n",
    "img1 = render # Query image (object in hand)\n",
    "img2 =  mask  # Train image (isolated object)\n",
    "\n",
    "# Initialize ORB detector\n",
    "orb = cv2.ORB_create()\n",
    "kp1, des1 = orb.detectAndCompute(img1, None)\n",
    "kp2, des2 = orb.detectAndCompute(img2, None)\n",
    "\n",
    "# Match features using Brute-Force\n",
    "bf = cv2.BFMatcher(cv2.NORM_HAMMING, crossCheck=True)\n",
    "matches = bf.match(des1, des2)\n",
    "matches = sorted(matches, key=lambda x: x.distance)\n",
    "\n",
    "# Draw top 10 matches\n",
    "matched_img = cv2.drawMatches(img1, kp1, img2, kp2, matches[:10], None, flags=2)\n",
    "cv2.imshow('Matches', matched_img)\n",
    "cv2.waitKey(0)\n",
    "cv2.destroyAllWindows()"
   ]
  }
 ],
 "metadata": {
  "kernelspec": {
   "display_name": "point_cloud",
   "language": "python",
   "name": "python3"
  },
  "language_info": {
   "codemirror_mode": {
    "name": "ipython",
    "version": 3
   },
   "file_extension": ".py",
   "mimetype": "text/x-python",
   "name": "python",
   "nbconvert_exporter": "python",
   "pygments_lexer": "ipython3",
   "version": "3.12.9"
  }
 },
 "nbformat": 4,
 "nbformat_minor": 5
}
