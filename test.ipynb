{
 "cells": [
  {
   "cell_type": "code",
   "execution_count": 1,
   "id": "02a4d941",
   "metadata": {},
   "outputs": [
    {
     "name": "stdout",
     "output_type": "stream",
     "text": [
      "Jupyter environment detected. Enabling Open3D WebVisualizer.\n",
      "[Open3D INFO] WebRTC GUI backend enabled.\n",
      "[Open3D INFO] WebRTCWindowSystem: HTTP handshake server disabled.\n"
     ]
    }
   ],
   "source": [
    "from src.model_save_load import load_mesh\n",
    "from pathlib import Path\n",
    "\n",
    "data_dir = Path(\"./data/hammer\")\n",
    "initial_mesh_file = data_dir / \"initial_mesh.ply\"\n",
    "mesh_o3d, mesh_trimesh, info = load_mesh(initial_mesh_file, vis=False)\n"
   ]
  },
  {
   "cell_type": "code",
   "execution_count": 2,
   "id": "60a39ae3",
   "metadata": {},
   "outputs": [
    {
     "ename": "UnboundLocalError",
     "evalue": "cannot access local variable 'x_min' where it is not associated with a value",
     "output_type": "error",
     "traceback": [
      "\u001b[31m---------------------------------------------------------------------------\u001b[39m",
      "\u001b[31mUnboundLocalError\u001b[39m                         Traceback (most recent call last)",
      "\u001b[36mCell\u001b[39m\u001b[36m \u001b[39m\u001b[32mIn[2]\u001b[39m\u001b[32m, line 3\u001b[39m\n\u001b[32m      1\u001b[39m \u001b[38;5;28;01mfrom\u001b[39;00m\u001b[38;5;250m \u001b[39m\u001b[34;01msrc\u001b[39;00m\u001b[38;5;250m \u001b[39m\u001b[38;5;28;01mimport\u001b[39;00m scene_process\n\u001b[32m      2\u001b[39m scene_dir = data_dir/\u001b[33m\"\u001b[39m\u001b[33mscenes\u001b[39m\u001b[33m\"\u001b[39m\n\u001b[32m----> \u001b[39m\u001b[32m3\u001b[39m \u001b[43mscene_process\u001b[49m\u001b[43m.\u001b[49m\u001b[43mprocess_scenes\u001b[49m\u001b[43m(\u001b[49m\u001b[43mscene_dir\u001b[49m\u001b[43m,\u001b[49m\u001b[43m \u001b[49m\u001b[33;43m\"\u001b[39;49m\u001b[33;43ma hammer\u001b[39;49m\u001b[33;43m\"\u001b[39;49m\u001b[43m)\u001b[49m\n",
      "\u001b[36mFile \u001b[39m\u001b[32md:\\work\\projects\\FunctionalGrasp\\Semantic_Object_Segmentation_for_Affordance_Labeling\\src\\scene_process.py:27\u001b[39m, in \u001b[36mprocess_scenes\u001b[39m\u001b[34m(scene_dir, object_class)\u001b[39m\n\u001b[32m     25\u001b[39m scene_file_list = \u001b[38;5;28mlist\u001b[39m(scene_dir.glob(\u001b[33m\"\u001b[39m\u001b[33m*.jpg\u001b[39m\u001b[33m\"\u001b[39m))\n\u001b[32m     26\u001b[39m \u001b[38;5;28;01mfor\u001b[39;00m file \u001b[38;5;129;01min\u001b[39;00m scene_file_list:\n\u001b[32m---> \u001b[39m\u001b[32m27\u001b[39m     image, hand_bbox = \u001b[43mprocess_scene_image\u001b[49m\u001b[43m(\u001b[49m\u001b[43mfile\u001b[49m\u001b[43m,\u001b[49m\u001b[43m \u001b[49m\u001b[43mobject_class\u001b[49m\u001b[43m)\u001b[49m\n\u001b[32m     28\u001b[39m     np.savez(file.with_suffix(\u001b[33m\"\u001b[39m\u001b[33m.npz\u001b[39m\u001b[33m\"\u001b[39m),image=image, hand_bbox=hand_bbox)\n",
      "\u001b[36mFile \u001b[39m\u001b[32md:\\work\\projects\\FunctionalGrasp\\Semantic_Object_Segmentation_for_Affordance_Labeling\\src\\scene_process.py:17\u001b[39m, in \u001b[36mprocess_scene_image\u001b[39m\u001b[34m(image_path, object_class)\u001b[39m\n\u001b[32m     15\u001b[39m bboxes, scores = get_bounding_boxes_dino(scene_image, object_class)\n\u001b[32m     16\u001b[39m best_bbox = bboxes[np.argmax(np.asarray(scores))]\n\u001b[32m---> \u001b[39m\u001b[32m17\u001b[39m hand_bbox = np.round(\u001b[43mhand_search\u001b[49m\u001b[43m.\u001b[49m\u001b[43mget_hand_bbox\u001b[49m\u001b[43m(\u001b[49m\u001b[43mscene_image\u001b[49m\u001b[43m,\u001b[49m\u001b[43m \u001b[49m\u001b[43mbest_bbox\u001b[49m\u001b[43m,\u001b[49m\u001b[43m \u001b[49m\u001b[43mvis\u001b[49m\u001b[43m=\u001b[49m\u001b[38;5;28;43;01mTrue\u001b[39;49;00m\u001b[43m)\u001b[49m)\n\u001b[32m     18\u001b[39m masks, scores = get_masks_sam(scene_image, \u001b[38;5;28mlist\u001b[39m(best_bbox))\n\u001b[32m     19\u001b[39m mask = masks[\u001b[32m0\u001b[39m][scores.argmax()]\n",
      "\u001b[36mFile \u001b[39m\u001b[32md:\\work\\projects\\FunctionalGrasp\\Semantic_Object_Segmentation_for_Affordance_Labeling\\src\\hand_search.py:57\u001b[39m, in \u001b[36mget_hand_bbox\u001b[39m\u001b[34m(image, image_bbox, vis)\u001b[39m\n\u001b[32m     48\u001b[39m             mp_drawing.draw_landmarks(\n\u001b[32m     49\u001b[39m                 image,\n\u001b[32m     50\u001b[39m                 hand_landmarks,\n\u001b[32m   (...)\u001b[39m\u001b[32m     53\u001b[39m                 mp_drawing.DrawingSpec(color=(\u001b[32m0\u001b[39m, \u001b[32m255\u001b[39m, \u001b[32m0\u001b[39m), thickness=\u001b[32m2\u001b[39m)   \u001b[38;5;66;03m# Connection color\u001b[39;00m\n\u001b[32m     54\u001b[39m             )\n\u001b[32m     56\u001b[39m \u001b[38;5;28;01mif\u001b[39;00m vis:\n\u001b[32m---> \u001b[39m\u001b[32m57\u001b[39m     cv2.rectangle(image, (\u001b[43mx_min\u001b[49m, y_min), (x_max, y_max), (\u001b[32m0\u001b[39m, \u001b[32m255\u001b[39m, \u001b[32m0\u001b[39m), \u001b[32m2\u001b[39m)\n\u001b[32m     58\u001b[39m     cv2.imshow(\u001b[33m\"\u001b[39m\u001b[33m1. Hand Detection (MediaPipe)\u001b[39m\u001b[33m\"\u001b[39m, cv2.cvtColor(image, cv2.COLOR_RGB2BGR))\n\u001b[32m     59\u001b[39m     cv2.waitKey(\u001b[32m0\u001b[39m)\n",
      "\u001b[31mUnboundLocalError\u001b[39m: cannot access local variable 'x_min' where it is not associated with a value"
     ]
    }
   ],
   "source": [
    "from src import scene_process\n",
    "scene_dir = data_dir/\"scenes\"\n",
    "scene_process.process_scenes(scene_dir, \"a hammer\")\n",
    "\n"
   ]
  },
  {
   "cell_type": "code",
   "execution_count": 10,
   "id": "e8dcb6f6",
   "metadata": {},
   "outputs": [],
   "source": [
    "import numpy as np\n",
    "scene_dict = np.load(data_dir/\"scenes/hold_hammer_002157.npz\")\n",
    "scene_image = scene_dict[\"image\"]"
   ]
  },
  {
   "cell_type": "code",
   "execution_count": 11,
   "id": "80835bdd",
   "metadata": {},
   "outputs": [
    {
     "data": {
      "text/plain": [
       "<matplotlib.image.AxesImage at 0x15906269ca0>"
      ]
     },
     "execution_count": 11,
     "metadata": {},
     "output_type": "execute_result"
    },
    {
     "data": {
      "image/png": "[encoded data removed]",
      "text/plain": [
       "<Figure size 640x480 with 1 Axes>"
      ]
     },
     "metadata": {},
     "output_type": "display_data"
    }
   ],
   "source": [
    "import matplotlib.pyplot as plt\n",
    "hand_bbox = scene_dict[\"hand_bbox\"]\n",
    "plt.imshow(scene_image)"
   ]
  },
  {
   "cell_type": "code",
   "execution_count": 12,
   "id": "c65b5fba",
   "metadata": {},
   "outputs": [
    {
     "data": {
      "text/plain": [
       "<matplotlib.image.AxesImage at 0x159062e94f0>"
      ]
     },
     "execution_count": 12,
     "metadata": {},
     "output_type": "execute_result"
    },
    {
     "data": {
      "image/png": "[encoded data removed]",
      "text/plain": [
       "<Figure size 640x480 with 1 Axes>"
      ]
     },
     "metadata": {},
     "output_type": "display_data"
    }
   ],
   "source": [
    "from src import bbox_utils\n",
    "image = bbox_utils.add_bbox_to_image(scene_image, np.array([225, 158, 275, 222]))\n",
    "plt.imshow(image)"
   ]
  },
  {
   "cell_type": "code",
   "execution_count": 5,
   "id": "13d65480",
   "metadata": {},
   "outputs": [],
   "source": [
    "import numpy as np\n",
    "import point_cloud_utils as pcu\n",
    "import open3d as o3d\n",
    "\n",
    "# Step 1: Load the PLY file (vertices, faces, and colors)\n",
    "mesh = o3d.io.read_triangle_mesh(\"./data/hammer/initial_mesh.ply\")\n",
    "vertices = np.asarray(mesh.vertices)      # (N, 3) 3D coordinates\n",
    "faces = np.asarray(mesh.triangles)        # (M, 3) Triangle indices\n",
    "colors = np.asarray(mesh.vertex_colors)   # (N, 3) RGB colors in range [0,1]\n",
    "\n",
    "# Step 2: Sample points from the mesh using Poisson Disk Sampling\n",
    "face_ids, bary_coords = pcu.sample_mesh_poisson_disk(vertices, faces, num_samples=10000)\n",
    "\n",
    "# Step 3: Convert barycentric coordinates to 3D points\n",
    "sampled_points = np.zeros((bary_coords.shape[0], 3))  # (num_samples, 3)\n",
    "for i, (face_id, bary_coord) in enumerate(zip(face_ids, bary_coords)):\n",
    "    # Get the 3 vertices of the face\n",
    "    v0, v1, v2 = vertices[faces[face_id]]\n",
    "    # Compute the 3D point from barycentric coordinates\n",
    "    sampled_points[i] = v0 * bary_coord[0] + v1 * bary_coord[1] + v2 * bary_coord[2]\n",
    "\n",
    "# Step 4: Interpolate colors for the sampled points using nearest neighbor search\n",
    "# Find the nearest vertex for each sampled point and assign its color\n",
    "distances, nearest_indices = pcu.k_nearest_neighbors(sampled_points, vertices, k=1)\n",
    "\n",
    "# Flatten the indices array to match the shape of sampled points\n",
    "nearest_indices = nearest_indices.flatten()\n",
    "sampled_colors = colors[nearest_indices]\n",
    "\n",
    "# Step 5: Save the new point cloud with colors\n",
    "sampled_pcd = o3d.geometry.PointCloud()\n",
    "sampled_pcd.points = o3d.utility.Vector3dVector(sampled_points)\n",
    "sampled_pcd.colors = o3d.utility.Vector3dVector(sampled_colors)  # Assign interpolated colors\n",
    "\n",
    "# Save as PLY\n",
    "o3d.io.write_point_cloud(\"sampled_point_cloud_with_colors.ply\", sampled_pcd)\n",
    "\n",
    "# Step 6: Visualize the sampled point cloud\n",
    "o3d.visualization.draw_geometries([sampled_pcd])"
   ]
  }
 ],
 "metadata": {
  "kernelspec": {
   "display_name": "point_cloud",
   "language": "python",
   "name": "python3"
  },
  "language_info": {
   "codemirror_mode": {
    "name": "ipython",
    "version": 3
   },
   "file_extension": ".py",
   "mimetype": "text/x-python",
   "name": "python",
   "nbconvert_exporter": "python",
   "pygments_lexer": "ipython3",
   "version": "3.12.9"
  }
 },
 "nbformat": 4,
 "nbformat_minor": 5
}
