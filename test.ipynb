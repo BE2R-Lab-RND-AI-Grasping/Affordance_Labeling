{
 "cells": [
  {
   "cell_type": "code",
   "execution_count": null,
   "id": "02a4d941",
   "metadata": {},
   "outputs": [],
   "source": [
    "from src.model_save_load import load_mesh\n",
    "from pathlib import Path\n",
    "\n",
    "data_dir = Path(\"./data/hammer\")\n",
    "initial_mesh_file = data_dir / \"initial_mesh.ply\"\n",
    "mesh_o3d, mesh_trimesh, info = load_mesh(initial_mesh_file, vis=False)\n"
   ]
  },
  {
   "cell_type": "code",
   "execution_count": null,
   "id": "60a39ae3",
   "metadata": {},
   "outputs": [],
   "source": [
    "from src import scene_process\n",
    "scene_dir = data_dir/\"scenes\"\n",
    "scene_process.process_scenes(scene_dir, \"a hammer\")\n",
    "\n"
   ]
  },
  {
   "cell_type": "code",
   "execution_count": null,
   "id": "e8dcb6f6",
   "metadata": {},
   "outputs": [],
   "source": [
    "import numpy as np\n",
    "scene_dict = np.load(data_dir/\"scenes/hold_hammer_003948.npz\")\n",
    "scene_image = scene_dict[\"image\"]"
   ]
  },
  {
   "cell_type": "code",
   "execution_count": null,
   "id": "80835bdd",
   "metadata": {},
   "outputs": [],
   "source": [
    "import matplotlib.pyplot as plt\n",
    "hand_bbox = scene_dict[\"hand_bbox\"]\n",
    "plt.imshow(scene_image)"
   ]
  },
  {
   "cell_type": "code",
   "execution_count": null,
   "id": "c65b5fba",
   "metadata": {},
   "outputs": [],
   "source": [
    "from src import bbox_utils\n",
    "image = bbox_utils.add_bbox_to_image(scene_image, hand_bbox)\n",
    "plt.imshow(image)"
   ]
  },
  {
   "cell_type": "code",
   "execution_count": null,
   "id": "13d65480",
   "metadata": {},
   "outputs": [],
   "source": [
    "import numpy as np\n",
    "import point_cloud_utils as pcu\n",
    "import open3d as o3d\n",
    "\n",
    "# Step 1: Load the PLY file (vertices, faces, and colors)\n",
    "mesh = o3d.io.read_triangle_mesh(\"./data/hammer/initial_mesh.ply\")\n",
    "vertices = np.asarray(mesh.vertices)      # (N, 3) 3D coordinates\n",
    "faces = np.asarray(mesh.triangles)        # (M, 3) Triangle indices\n",
    "colors = np.asarray(mesh.vertex_colors)   # (N, 3) RGB colors in range [0,1]\n",
    "\n",
    "# Step 2: Sample points from the mesh using Poisson Disk Sampling\n",
    "face_ids, bary_coords = pcu.sample_mesh_poisson_disk(vertices, faces, num_samples=10000)\n",
    "\n",
    "# Step 3: Convert barycentric coordinates to 3D points\n",
    "sampled_points = np.zeros((bary_coords.shape[0], 3))  # (num_samples, 3)\n",
    "for i, (face_id, bary_coord) in enumerate(zip(face_ids, bary_coords)):\n",
    "    # Get the 3 vertices of the face\n",
    "    v0, v1, v2 = vertices[faces[face_id]]\n",
    "    # Compute the 3D point from barycentric coordinates\n",
    "    sampled_points[i] = v0 * bary_coord[0] + v1 * bary_coord[1] + v2 * bary_coord[2]\n",
    "\n",
    "# Step 4: Interpolate colors for the sampled points using nearest neighbor search\n",
    "# Find the nearest vertex for each sampled point and assign its color\n",
    "distances, nearest_indices = pcu.k_nearest_neighbors(sampled_points, vertices, k=1)\n",
    "\n",
    "# Flatten the indices array to match the shape of sampled points\n",
    "nearest_indices = nearest_indices.flatten()\n",
    "sampled_colors = colors[nearest_indices]\n",
    "\n",
    "# Step 5: Save the new point cloud with colors\n",
    "sampled_pcd = o3d.geometry.PointCloud()\n",
    "sampled_pcd.points = o3d.utility.Vector3dVector(sampled_points)\n",
    "sampled_pcd.colors = o3d.utility.Vector3dVector(sampled_colors)  # Assign interpolated colors\n",
    "\n",
    "# Save as PLY\n",
    "o3d.io.write_point_cloud(\"sampled_point_cloud_with_colors.ply\", sampled_pcd)\n",
    "\n",
    "# Step 6: Visualize the sampled point cloud\n",
    "o3d.visualization.draw_geometries([sampled_pcd])"
   ]
  }
 ],
 "metadata": {
  "kernelspec": {
   "display_name": "point_cloud",
   "language": "python",
   "name": "python3"
  },
  "language_info": {
   "codemirror_mode": {
    "name": "ipython",
    "version": 3
   },
   "file_extension": ".py",
   "mimetype": "text/x-python",
   "name": "python",
   "nbconvert_exporter": "python",
   "pygments_lexer": "ipython3",
   "version": "3.12.9"
  }
 },
 "nbformat": 4,
 "nbformat_minor": 5
}
