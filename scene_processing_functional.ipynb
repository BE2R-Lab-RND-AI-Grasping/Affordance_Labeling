{
 "cells": [
  {
   "cell_type": "code",
   "execution_count": null,
   "id": "ca088853",
   "metadata": {},
   "outputs": [],
   "source": [
    "import importlib\n",
    "import numpy as np\n",
    "import cv2\n",
    "from pathlib import Path\n",
    "from matplotlib import pyplot as plt\n",
    "from src.object_detection import get_bounding_boxes_dino\n",
    "from src import bbox_utils\n",
    "importlib.reload(bbox_utils)\n",
    "from src import hand_search\n",
    "importlib.reload(hand_search)\n",
    "from src import scene_process"
   ]
  },
  {
   "cell_type": "code",
   "execution_count": null,
   "id": "a978c801",
   "metadata": {},
   "outputs": [],
   "source": [
    "scene_dir = Path(\"./data/hammer_1/scenes\")\n",
    "scene_process.process_scenes(scene_dir, \"hammer\")"
   ]
  },
  {
   "cell_type": "code",
   "execution_count": null,
   "id": "84f3ffb6",
   "metadata": {},
   "outputs": [],
   "source": [
    "render_iter = scene_dir.glob(\"*.npz\")\n",
    "path_list= list(render_iter)\n",
    "len(path_list)"
   ]
  },
  {
   "cell_type": "code",
   "execution_count": null,
   "id": "3b2df3d9",
   "metadata": {},
   "outputs": [],
   "source": [
    "scene_results = np.load(path_list[2])\n",
    "hand_bbox = scene_results[\"hand_bbox\"]\n",
    "object_mask = scene_results[\"image\"]\n",
    "image = bbox_utils.add_bbox_to_image(object_mask, hand_bbox)\n",
    "bbox = bbox_utils.get_total_bounding_box(image, background_white=False)\n",
    "croped_image_scene = bbox_utils.crop_bbox_cv2(image, bbox)\n",
    "plt.imshow(croped_image_scene)"
   ]
  }
 ],
 "metadata": {
  "kernelspec": {
   "display_name": "point_cloud",
   "language": "python",
   "name": "python3"
  },
  "language_info": {
   "codemirror_mode": {
    "name": "ipython",
    "version": 3
   },
   "file_extension": ".py",
   "mimetype": "text/x-python",
   "name": "python",
   "nbconvert_exporter": "python",
   "pygments_lexer": "ipython3",
   "version": "3.12.9"
  }
 },
 "nbformat": 4,
 "nbformat_minor": 5
}
