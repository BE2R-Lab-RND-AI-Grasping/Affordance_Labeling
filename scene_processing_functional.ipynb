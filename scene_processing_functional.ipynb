{
 "cells": [
  {
   "cell_type": "code",
   "execution_count": 3,
   "id": "ca088853",
   "metadata": {},
   "outputs": [],
   "source": [
    "import importlib\n",
    "import numpy as np\n",
    "import cv2\n",
    "from pathlib import Path\n",
    "from matplotlib import pyplot as plt\n",
    "from src.object_detection import get_bounding_boxes_dino\n",
    "from src import bbox_utils\n",
    "importlib.reload(bbox_utils)\n",
    "from src import hand_search\n",
    "importlib.reload(hand_search)\n",
    "from src import scene_process"
   ]
  },
  {
   "cell_type": "code",
   "execution_count": 4,
   "id": "a978c801",
   "metadata": {},
   "outputs": [
    {
     "name": "stdout",
     "output_type": "stream",
     "text": [
      "No hands detected.\n",
      "No hand bounding box found for hammer in data\\hammer_1\\scenes\\hold_hammer_009906.jpg.\n",
      "Skipping data\\hammer_1\\scenes\\hold_hammer_009906.jpg due to no bounding boxes found.\n"
     ]
    }
   ],
   "source": [
    "scene_dir = Path(\"./data/hammer_1/scenes\")\n",
    "scene_process.process_scenes(scene_dir, \"hammer\")"
   ]
  }
 ],
 "metadata": {
  "kernelspec": {
   "display_name": "point_cloud",
   "language": "python",
   "name": "python3"
  },
  "language_info": {
   "codemirror_mode": {
    "name": "ipython",
    "version": 3
   },
   "file_extension": ".py",
   "mimetype": "text/x-python",
   "name": "python",
   "nbconvert_exporter": "python",
   "pygments_lexer": "ipython3",
   "version": "3.12.9"
  }
 },
 "nbformat": 4,
 "nbformat_minor": 5
}
