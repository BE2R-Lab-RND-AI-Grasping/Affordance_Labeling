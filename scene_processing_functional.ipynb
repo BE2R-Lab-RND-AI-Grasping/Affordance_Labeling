{
 "cells": [
  {
   "cell_type": "code",
   "execution_count": 1,
   "id": "ca088853",
   "metadata": {},
   "outputs": [],
   "source": [
    "import importlib\n",
    "import numpy as np\n",
    "import cv2\n",
    "from pathlib import Path\n",
    "from matplotlib import pyplot as plt\n",
    "from src.object_detection import get_bounding_boxes_dino\n",
    "from src import bbox_utils\n",
    "importlib.reload(bbox_utils)\n",
    "from src import hand_search\n",
    "importlib.reload(hand_search)\n",
    "from src import scene_process"
   ]
  },
  {
   "cell_type": "code",
   "execution_count": 2,
   "id": "11ade0c5",
   "metadata": {},
   "outputs": [],
   "source": [
    "scene_dir = Path(\"./data/hammer_2/scenes\")"
   ]
  },
  {
   "cell_type": "code",
   "execution_count": null,
   "id": "a978c801",
   "metadata": {},
   "outputs": [
    {
     "name": "stderr",
     "output_type": "stream",
     "text": [
      "WARNING: All log messages before absl::InitializeLog() is called are written to STDERR\n",
      "I0000 00:00:1745505521.906520  108839 gl_context_egl.cc:85] Successfully initialized EGL. Major : 1 Minor: 5\n",
      "I0000 00:00:1745505521.909355  109678 gl_context.cc:369] GL version: 3.2 (OpenGL ES 3.2 Mesa 23.2.1-1ubuntu3.1~22.04.3), renderer: Mesa Intel(R) UHD Graphics 630 (CFL GT2)\n",
      "INFO: Created TensorFlow Lite XNNPACK delegate for CPU.\n",
      "W0000 00:00:1745505521.972888  109662 inference_feedback_manager.cc:114] Feedback manager requires a model with a single signature inference. Disabling support for feedback tensors.\n",
      "W0000 00:00:1745505521.999429  109666 inference_feedback_manager.cc:114] Feedback manager requires a model with a single signature inference. Disabling support for feedback tensors.\n",
      "W0000 00:00:1745505522.156774  109661 landmark_projection_calculator.cc:186] Using NORM_RECT without IMAGE_DIMENSIONS is only supported for the square ROI. Provide IMAGE_DIMENSIONS or use PROJECTION_MATRIX.\n"
     ]
    },
    {
     "name": "stdout",
     "output_type": "stream",
     "text": [
      "No hands detected.\n",
      "No hand bounding box found for hammer in data/hammer_2/scenes/hold_hammer_012732.jpg.\n",
      "Skipping data/hammer_2/scenes/hold_hammer_012732.jpg due to no bounding boxes found.\n",
      "No bounding boxes found for hammer in data/hammer_2/scenes/hold_hammer_000202.jpg.\n",
      "Skipping data/hammer_2/scenes/hold_hammer_000202.jpg due to no bounding boxes found.\n",
      "No bounding boxes found for hammer in data/hammer_2/scenes/hold_hammer_005814.jpg.\n",
      "Skipping data/hammer_2/scenes/hold_hammer_005814.jpg due to no bounding boxes found.\n",
      "No hands detected.\n",
      "No hand bounding box found for hammer in data/hammer_2/scenes/hold_hammer_005574.jpg.\n",
      "Skipping data/hammer_2/scenes/hold_hammer_005574.jpg due to no bounding boxes found.\n"
     ]
    }
   ],
   "source": [
    "\n",
    "scene_process.process_scenes(scene_dir, \"hammer\")"
   ]
  },
  {
   "cell_type": "code",
   "execution_count": null,
   "id": "84f3ffb6",
   "metadata": {},
   "outputs": [],
   "source": [
    "render_iter = scene_dir.glob(\"*.npz\")\n",
    "path_list= list(render_iter)\n",
    "len(path_list)"
   ]
  },
  {
   "cell_type": "code",
   "execution_count": null,
   "id": "3b2df3d9",
   "metadata": {},
   "outputs": [],
   "source": [
    "scene_results = np.load(path_list[0])\n",
    "hand_bbox = scene_results[\"hand_bbox\"]\n",
    "object_mask = scene_results[\"image\"]\n",
    "image = bbox_utils.add_bbox_to_image(object_mask, hand_bbox)\n",
    "bbox = bbox_utils.get_total_bounding_box(image, background_white=False)\n",
    "croped_image_scene = bbox_utils.crop_bbox_cv2(image, bbox)\n",
    "plt.imshow(croped_image_scene)"
   ]
  }
 ],
 "metadata": {
  "kernelspec": {
   "display_name": "labeling_env",
   "language": "python",
   "name": "python3"
  },
  "language_info": {
   "codemirror_mode": {
    "name": "ipython",
    "version": 3
   },
   "file_extension": ".py",
   "mimetype": "text/x-python",
   "name": "python",
   "nbconvert_exporter": "python",
   "pygments_lexer": "ipython3",
   "version": "3.10.17"
  }
 },
 "nbformat": 4,
 "nbformat_minor": 5
}
