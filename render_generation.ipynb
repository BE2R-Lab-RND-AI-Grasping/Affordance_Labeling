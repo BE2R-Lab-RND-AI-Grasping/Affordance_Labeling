{
 "cells": [
  {
   "cell_type": "code",
   "execution_count": null,
   "id": "df32d7cc",
   "metadata": {},
   "outputs": [],
   "source": [
    "import matplotlib.pyplot as plt\n",
    "import cv2\n",
    "from pathlib import Path\n",
    "import importlib\n",
    "\n",
    "import open3d as o3d\n",
    "import numpy as np\n",
    "from src import model_save_load\n",
    "importlib.reload(model_save_load)\n",
    "# from model_save_load import load_mesh\n",
    "from src import object_render\n",
    "importlib.reload(object_render)\n",
    "# from object_render import get_render\n",
    "from src import convex_decomposition\n",
    "importlib.reload(convex_decomposition)\n",
    "from src import object_detection\n",
    "importlib.reload(object_detection)\n",
    "from src import bbox_utils\n",
    "importlib.reload(bbox_utils)"
   ]
  },
  {
   "cell_type": "code",
   "execution_count": null,
   "id": "621b8f72",
   "metadata": {},
   "outputs": [],
   "source": [
    "data_dir = Path(\"./data/hammer\")\n",
    "mesh_file = data_dir / \"object_convex_decomposition.obj\"\n",
    "mesh_o3d, mesh_trimesh, info = model_save_load.load_mesh(mesh_file, vis=False)"
   ]
  },
  {
   "cell_type": "code",
   "execution_count": null,
   "id": "757fe1c4",
   "metadata": {},
   "outputs": [],
   "source": [
    "vis = o3d.visualization.Visualizer()\n",
    "vis.create_window(visible=False)\n",
    "ctr = vis.get_view_control()"
   ]
  },
  {
   "cell_type": "code",
   "execution_count": null,
   "id": "23aaaf17",
   "metadata": {},
   "outputs": [],
   "source": [
    "camera =  ctr.convert_to_pinhole_camera_parameters()\n",
    "camera.intrinsic.intrinsic_matrix"
   ]
  },
  {
   "cell_type": "code",
   "execution_count": null,
   "id": "ffbe2831",
   "metadata": {},
   "outputs": [],
   "source": [
    "ctr.get_field_of_view()"
   ]
  },
  {
   "cell_type": "code",
   "execution_count": null,
   "id": "fc059404",
   "metadata": {},
   "outputs": [],
   "source": [
    "np.round(camera.extrinsic,1)"
   ]
  },
  {
   "cell_type": "code",
   "execution_count": null,
   "id": "db2fb64f",
   "metadata": {},
   "outputs": [],
   "source": [
    "np.round(np.linalg.inv(camera.extrinsic),1)"
   ]
  },
  {
   "cell_type": "code",
   "execution_count": null,
   "id": "39771eaa",
   "metadata": {},
   "outputs": [],
   "source": [
    "ctr.set_lookat([0,0,0])\n",
    "# ctr.set_front([0,0,-1])"
   ]
  },
  {
   "cell_type": "code",
   "execution_count": null,
   "id": "e84e101c",
   "metadata": {},
   "outputs": [],
   "source": [
    "vis.add_geometry(mesh_o3d)"
   ]
  },
  {
   "cell_type": "code",
   "execution_count": null,
   "id": "284d1c05",
   "metadata": {},
   "outputs": [],
   "source": [
    "camera.extrinsic @ np.array([0,0,0,1]) # world 0 in camera coordinates"
   ]
  },
  {
   "cell_type": "code",
   "execution_count": null,
   "id": "20721c31",
   "metadata": {},
   "outputs": [],
   "source": [
    "camera.extrinsic @ np.array([187.15182419, -77.65317682,  12.37077629, 1])\n",
    "camera.extrinsic @ np.array([184.91030874, -76.8599313 ,  13.74452546, 1])\n",
    "\n"
   ]
  },
  {
   "cell_type": "code",
   "execution_count": null,
   "id": "626d2156",
   "metadata": {},
   "outputs": [],
   "source": [
    "np.linalg.inv(camera.extrinsic) @ np.array([0,0,0,1])"
   ]
  },
  {
   "cell_type": "code",
   "execution_count": null,
   "id": "e646b774",
   "metadata": {},
   "outputs": [],
   "source": [
    "ctr.set_zoom(3)"
   ]
  },
  {
   "cell_type": "code",
   "execution_count": null,
   "id": "b75feac5",
   "metadata": {},
   "outputs": [],
   "source": [
    "vis.capture_depth_point_cloud(\"pc_world.ply\",do_render=True, convert_to_world_coordinate=True)\n",
    "vis.capture_depth_point_cloud(\"pc.ply\",do_render=True, convert_to_world_coordinate=False)"
   ]
  },
  {
   "cell_type": "code",
   "execution_count": null,
   "id": "7cbf162f",
   "metadata": {},
   "outputs": [],
   "source": [
    "pc = o3d.io.read_point_cloud(\"pc.ply\")\n",
    "pc_world = o3d.io.read_point_cloud(\"pc_world.ply\")\n",
    "o3d.visualization.draw_geometries([pc, pc_world])"
   ]
  },
  {
   "cell_type": "code",
   "execution_count": null,
   "id": "1ab05209",
   "metadata": {},
   "outputs": [],
   "source": [
    "np.array(pc_world.points)"
   ]
  },
  {
   "cell_type": "code",
   "execution_count": null,
   "id": "b200f3f0",
   "metadata": {},
   "outputs": [],
   "source": [
    "np.array(pc.points)"
   ]
  },
  {
   "cell_type": "code",
   "execution_count": null,
   "id": "61c7f5a2",
   "metadata": {},
   "outputs": [],
   "source": [
    "vis.capture_screen_image('1.jpg',do_render=True)"
   ]
  }
 ],
 "metadata": {
  "kernelspec": {
   "display_name": "point_cloud",
   "language": "python",
   "name": "python3"
  },
  "language_info": {
   "codemirror_mode": {
    "name": "ipython",
    "version": 3
   },
   "file_extension": ".py",
   "mimetype": "text/x-python",
   "name": "python",
   "nbconvert_exporter": "python",
   "pygments_lexer": "ipython3",
   "version": "3.9.21"
  }
 },
 "nbformat": 4,
 "nbformat_minor": 5
}
