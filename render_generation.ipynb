{
 "cells": [
  {
   "cell_type": "code",
   "execution_count": null,
   "id": "df32d7cc",
   "metadata": {},
   "outputs": [
    {
     "name": "stdout",
     "output_type": "stream",
     "text": [
      "Jupyter environment detected. Enabling Open3D WebVisualizer.\n",
      "[Open3D INFO] WebRTC GUI backend enabled.\n",
      "[Open3D INFO] WebRTCWindowSystem: HTTP handshake server disabled.\n"
     ]
    },
    {
     "name": "stderr",
     "output_type": "stream",
     "text": [
      "/home/be2r-lab-210134/Python/anaconda3/envs/point_cloud/lib/python3.9/site-packages/torchvision/io/image.py:13: UserWarning: Failed to load image Python extension: '/home/be2r-lab-210134/Python/anaconda3/envs/point_cloud/lib/python3.9/site-packages/torchvision/image.so: undefined symbol: _ZN3c1017RegisterOperatorsD1Ev'If you don't plan on using image functionality from `torchvision.io`, you can ignore this warning. Otherwise, there might be something wrong with your environment. Did you have `libjpeg` or `libpng` installed before building `torchvision` from source?\n",
      "  warn(\n",
      "/home/be2r-lab-210134/Python/anaconda3/envs/point_cloud/lib/python3.9/site-packages/torchvision/datapoints/__init__.py:12: UserWarning: The torchvision.datapoints and torchvision.transforms.v2 namespaces are still Beta. While we do not expect major breaking changes, some APIs may still change according to user feedback. Please submit any feedback you may have in this issue: https://github.com/pytorch/vision/issues/6753, and you can also check out https://github.com/pytorch/vision/issues/7319 to learn more about the APIs that we suspect might involve future changes. You can silence this warning by calling torchvision.disable_beta_transforms_warning().\n",
      "  warnings.warn(_BETA_TRANSFORMS_WARNING)\n",
      "/home/be2r-lab-210134/Python/anaconda3/envs/point_cloud/lib/python3.9/site-packages/torchvision/transforms/v2/__init__.py:54: UserWarning: The torchvision.datapoints and torchvision.transforms.v2 namespaces are still Beta. While we do not expect major breaking changes, some APIs may still change according to user feedback. Please submit any feedback you may have in this issue: https://github.com/pytorch/vision/issues/6753, and you can also check out https://github.com/pytorch/vision/issues/7319 to learn more about the APIs that we suspect might involve future changes. You can silence this warning by calling torchvision.disable_beta_transforms_warning().\n",
      "  warnings.warn(_BETA_TRANSFORMS_WARNING)\n"
     ]
    },
    {
     "data": {
      "text/plain": [
       "<module 'src.bbox_utils' from '/home/be2r-lab-210134/Python/functional_grasp/11.04.2025/Affordance/src/bbox_utils.py'>"
      ]
     },
     "execution_count": 1,
     "metadata": {},
     "output_type": "execute_result"
    }
   ],
   "source": [
    "import matplotlib.pyplot as plt\n",
    "import cv2\n",
    "from pathlib import Path\n",
    "import importlib\n",
    "\n",
    "import open3d as o3d\n",
    "import numpy as np\n",
    "from src import model_save_load\n",
    "importlib.reload(model_save_load)\n",
    "# from model_save_load import load_mesh\n",
    "from src import object_render\n",
    "importlib.reload(object_render)\n",
    "# from object_render import get_render\n",
    "from src import convex_decomposition\n",
    "importlib.reload(convex_decomposition)\n",
    "from src import object_detection\n",
    "importlib.reload(object_detection)\n",
    "from src import bbox_utils\n",
    "importlib.reload(bbox_utils)"
   ]
  },
  {
   "cell_type": "code",
   "execution_count": 32,
   "id": "621b8f72",
   "metadata": {},
   "outputs": [],
   "source": [
    "data_dir = Path(\"./data/hammer\")\n",
    "mesh_file = data_dir / \"object_convex_decomposition.obj\"\n",
    "mesh_o3d, mesh_trimesh, info = model_save_load.load_mesh(mesh_file, vis=False)"
   ]
  },
  {
   "cell_type": "code",
   "execution_count": 33,
   "id": "757fe1c4",
   "metadata": {},
   "outputs": [],
   "source": [
    "vis = o3d.visualization.Visualizer()\n",
    "vis.create_window(visible=False)\n",
    "ctr = vis.get_view_control()\n",
    "\n",
    "\n",
    "\n"
   ]
  },
  {
   "cell_type": "code",
   "execution_count": 42,
   "id": "23aaaf17",
   "metadata": {},
   "outputs": [
    {
     "data": {
      "text/plain": [
       "array([[935.30743609,   0.        , 959.5       ],\n",
       "       [  0.        , 935.30743609, 539.5       ],\n",
       "       [  0.        ,   0.        ,   1.        ]])"
      ]
     },
     "execution_count": 42,
     "metadata": {},
     "output_type": "execute_result"
    }
   ],
   "source": [
    "camera =  ctr.convert_to_pinhole_camera_parameters()\n",
    "camera.intrinsic.intrinsic_matrix"
   ]
  },
  {
   "cell_type": "code",
   "execution_count": 5,
   "id": "ffbe2831",
   "metadata": {},
   "outputs": [
    {
     "data": {
      "text/plain": [
       "60.0"
      ]
     },
     "execution_count": 5,
     "metadata": {},
     "output_type": "execute_result"
    }
   ],
   "source": [
    "ctr.get_field_of_view()"
   ]
  },
  {
   "cell_type": "code",
   "execution_count": 43,
   "id": "fc059404",
   "metadata": {},
   "outputs": [
    {
     "data": {
      "text/plain": [
       "array([[  1. ,   0. ,   0. ,  -0. ],\n",
       "       [ -0. ,  -1. ,  -0. ,   0. ],\n",
       "       [ -0. ,  -0. ,  -1. , 510.3],\n",
       "       [  0. ,   0. ,   0. ,   1. ]])"
      ]
     },
     "execution_count": 43,
     "metadata": {},
     "output_type": "execute_result"
    }
   ],
   "source": [
    "np.round(camera.extrinsic,1)"
   ]
  },
  {
   "cell_type": "code",
   "execution_count": 44,
   "id": "db2fb64f",
   "metadata": {},
   "outputs": [
    {
     "data": {
      "text/plain": [
       "array([[  1. ,   0. ,   0. ,   0. ],\n",
       "       [ -0. ,  -1. ,  -0. ,  -0. ],\n",
       "       [ -0. ,  -0. ,  -1. , 510.3],\n",
       "       [  0. ,   0. ,   0. ,   1. ]])"
      ]
     },
     "execution_count": 44,
     "metadata": {},
     "output_type": "execute_result"
    }
   ],
   "source": [
    "np.round(np.linalg.inv(camera.extrinsic),1)"
   ]
  },
  {
   "cell_type": "code",
   "execution_count": 41,
   "id": "39771eaa",
   "metadata": {},
   "outputs": [],
   "source": [
    "ctr.set_lookat([0,0,0])\n",
    "# ctr.set_front([0,0,-1])"
   ]
  },
  {
   "cell_type": "code",
   "execution_count": 36,
   "id": "e84e101c",
   "metadata": {},
   "outputs": [
    {
     "data": {
      "text/plain": [
       "True"
      ]
     },
     "execution_count": 36,
     "metadata": {},
     "output_type": "execute_result"
    }
   ],
   "source": [
    "vis.add_geometry(mesh_o3d)\n"
   ]
  },
  {
   "cell_type": "code",
   "execution_count": 29,
   "id": "284d1c05",
   "metadata": {},
   "outputs": [
    {
     "data": {
      "text/plain": [
       "array([4.50004578e-01, 8.37596893e-01, 5.09792807e+02, 1.00000000e+00])"
      ]
     },
     "execution_count": 29,
     "metadata": {},
     "output_type": "execute_result"
    }
   ],
   "source": [
    "camera.extrinsic @ np.array([0,0,0,1]) # world 0 in camera coordinates"
   ]
  },
  {
   "cell_type": "code",
   "execution_count": 27,
   "id": "20721c31",
   "metadata": {},
   "outputs": [
    {
     "data": {
      "text/plain": [
       "array([185.36031332,  77.69752819, 496.04828114,   1.        ])"
      ]
     },
     "execution_count": 27,
     "metadata": {},
     "output_type": "execute_result"
    }
   ],
   "source": [
    "camera.extrinsic @ np.array([187.15182419, -77.65317682,  12.37077629, 1])\n",
    "camera.extrinsic @ np.array([184.91030874, -76.8599313 ,  13.74452546, 1])\n",
    "\n"
   ]
  },
  {
   "cell_type": "code",
   "execution_count": 100,
   "id": "626d2156",
   "metadata": {},
   "outputs": [
    {
     "data": {
      "text/plain": [
       "array([1.54643392e+03, 0.00000000e+00, 1.54643392e+03, 1.00000000e+00])"
      ]
     },
     "execution_count": 100,
     "metadata": {},
     "output_type": "execute_result"
    }
   ],
   "source": [
    "np.linalg.inv(camera.extrinsic) @ np.array([0,0,0,1])"
   ]
  },
  {
   "cell_type": "code",
   "execution_count": 24,
   "id": "e646b774",
   "metadata": {},
   "outputs": [],
   "source": [
    "ctr.set_zoom(3)"
   ]
  },
  {
   "cell_type": "code",
   "execution_count": 20,
   "id": "b75feac5",
   "metadata": {},
   "outputs": [],
   "source": [
    "vis.capture_depth_point_cloud(\"pc_world.ply\",do_render=True, convert_to_world_coordinate=True)\n",
    "vis.capture_depth_point_cloud(\"pc.ply\",do_render=True, convert_to_world_coordinate=False)"
   ]
  },
  {
   "cell_type": "code",
   "execution_count": 21,
   "id": "7cbf162f",
   "metadata": {},
   "outputs": [],
   "source": [
    "pc = o3d.io.read_point_cloud(\"pc.ply\")\n",
    "pc_world = o3d.io.read_point_cloud(\"pc_world.ply\")\n",
    "o3d.visualization.draw_geometries([pc, pc_world])"
   ]
  },
  {
   "cell_type": "code",
   "execution_count": 22,
   "id": "1ab05209",
   "metadata": {},
   "outputs": [
    {
     "data": {
      "text/plain": [
       "array([[184.91030874, -76.8599313 ,  13.74452546],\n",
       "       [185.03379624, -76.68986965,  14.83025874],\n",
       "       [185.33823388, -76.59619297,  15.42832351],\n",
       "       ...,\n",
       "       [188.6737428 ,  77.29187834,   7.98048871],\n",
       "       [189.20219668,  77.28862628,   8.0018338 ],\n",
       "       [190.35416189,  77.53602829,   6.37799561]])"
      ]
     },
     "execution_count": 22,
     "metadata": {},
     "output_type": "execute_result"
    }
   ],
   "source": [
    "np.array(pc_world.points)"
   ]
  },
  {
   "cell_type": "code",
   "execution_count": 23,
   "id": "b200f3f0",
   "metadata": {},
   "outputs": [
    {
     "data": {
      "text/plain": [
       "array([[ 185.35992939,  -77.69736728, -496.0472633 ],\n",
       "       [ 185.48341664,  -77.52730598, -494.96153228],\n",
       "       [ 185.78785365,  -77.4336295 , -494.36346874],\n",
       "       ...,\n",
       "       [ 189.12335566,   76.45412308, -501.81128812],\n",
       "       [ 189.65180844,   76.45087103, -501.78994307],\n",
       "       [ 190.80377127,   76.69827254, -503.4137779 ]])"
      ]
     },
     "execution_count": 23,
     "metadata": {},
     "output_type": "execute_result"
    }
   ],
   "source": [
    "np.array(pc.points)"
   ]
  },
  {
   "cell_type": "code",
   "execution_count": 84,
   "id": "61c7f5a2",
   "metadata": {},
   "outputs": [],
   "source": [
    "vis.capture_screen_image('1.jpg',do_render=True)"
   ]
  }
 ],
 "metadata": {
  "kernelspec": {
   "display_name": "point_cloud",
   "language": "python",
   "name": "python3"
  },
  "language_info": {
   "codemirror_mode": {
    "name": "ipython",
    "version": 3
   },
   "file_extension": ".py",
   "mimetype": "text/x-python",
   "name": "python",
   "nbconvert_exporter": "python",
   "pygments_lexer": "ipython3",
   "version": "3.9.21"
  }
 },
 "nbformat": 4,
 "nbformat_minor": 5
}
