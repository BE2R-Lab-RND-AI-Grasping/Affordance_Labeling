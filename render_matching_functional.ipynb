{
 "cells": [
  {
   "cell_type": "code",
   "execution_count": null,
   "id": "19af956a",
   "metadata": {},
   "outputs": [],
   "source": [
    "from src import object_render\n",
    "from pathlib import Path\n",
    "from src import model_save_load"
   ]
  },
  {
   "cell_type": "code",
   "execution_count": null,
   "id": "1bbd2e5d",
   "metadata": {},
   "outputs": [],
   "source": [
    "scene_dir = Path(\"./data/hammer_1/scenes\")\n",
    "data_dir = Path(\"./data/hammer_1\")\n",
    "mesh_file = data_dir / \"object_convex_decomposition.obj\"\n",
    "mesh_o3d, mesh_trimesh, info = model_save_load.load_mesh(mesh_file, vis=False)\n",
    "render_dir = data_dir/\"renders\"\n",
    "\n",
    "object_render.scene_matching(scene_dir, render_dir, data_dir/\"depths\",mesh_o3d)"
   ]
  },
  {
   "cell_type": "code",
   "execution_count": null,
   "id": "0bb8ad54",
   "metadata": {},
   "outputs": [],
   "source": []
  }
 ],
 "metadata": {
  "kernelspec": {
   "display_name": "point_cloud",
   "language": "python",
   "name": "python3"
  },
  "language_info": {
   "codemirror_mode": {
    "name": "ipython",
    "version": 3
   },
   "file_extension": ".py",
   "mimetype": "text/x-python",
   "name": "python",
   "nbconvert_exporter": "python",
   "pygments_lexer": "ipython3",
   "version": "3.9.21"
  }
 },
 "nbformat": 4,
 "nbformat_minor": 5
}
