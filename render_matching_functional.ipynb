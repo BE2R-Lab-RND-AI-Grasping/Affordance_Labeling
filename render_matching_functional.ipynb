{
 "cells": [
  {
   "cell_type": "code",
   "execution_count": 1,
   "id": "19af956a",
   "metadata": {},
   "outputs": [
    {
     "name": "stdout",
     "output_type": "stream",
     "text": [
      "Jupyter environment detected. Enabling Open3D WebVisualizer.\n",
      "[Open3D INFO] WebRTC GUI backend enabled.\n",
      "[Open3D INFO] WebRTCWindowSystem: HTTP handshake server disabled.\n"
     ]
    },
    {
     "name": "stderr",
     "output_type": "stream",
     "text": [
      "/home/be2r-lab-210134/Python/anaconda3/envs/point_cloud/lib/python3.9/site-packages/torchvision/io/image.py:13: UserWarning: Failed to load image Python extension: '/home/be2r-lab-210134/Python/anaconda3/envs/point_cloud/lib/python3.9/site-packages/torchvision/image.so: undefined symbol: _ZN3c1017RegisterOperatorsD1Ev'If you don't plan on using image functionality from `torchvision.io`, you can ignore this warning. Otherwise, there might be something wrong with your environment. Did you have `libjpeg` or `libpng` installed before building `torchvision` from source?\n",
      "  warn(\n",
      "/home/be2r-lab-210134/Python/anaconda3/envs/point_cloud/lib/python3.9/site-packages/torchvision/datapoints/__init__.py:12: UserWarning: The torchvision.datapoints and torchvision.transforms.v2 namespaces are still Beta. While we do not expect major breaking changes, some APIs may still change according to user feedback. Please submit any feedback you may have in this issue: https://github.com/pytorch/vision/issues/6753, and you can also check out https://github.com/pytorch/vision/issues/7319 to learn more about the APIs that we suspect might involve future changes. You can silence this warning by calling torchvision.disable_beta_transforms_warning().\n",
      "  warnings.warn(_BETA_TRANSFORMS_WARNING)\n",
      "/home/be2r-lab-210134/Python/anaconda3/envs/point_cloud/lib/python3.9/site-packages/torchvision/transforms/v2/__init__.py:54: UserWarning: The torchvision.datapoints and torchvision.transforms.v2 namespaces are still Beta. While we do not expect major breaking changes, some APIs may still change according to user feedback. Please submit any feedback you may have in this issue: https://github.com/pytorch/vision/issues/6753, and you can also check out https://github.com/pytorch/vision/issues/7319 to learn more about the APIs that we suspect might involve future changes. You can silence this warning by calling torchvision.disable_beta_transforms_warning().\n",
      "  warnings.warn(_BETA_TRANSFORMS_WARNING)\n"
     ]
    }
   ],
   "source": [
    "from src import object_render\n",
    "from pathlib import Path\n",
    "from src import model_save_load"
   ]
  },
  {
   "cell_type": "code",
   "execution_count": 2,
   "id": "1bbd2e5d",
   "metadata": {},
   "outputs": [],
   "source": [
    "scene_dir = Path(\"./data/hammer_2/scenes\")\n",
    "data_dir = Path(\"./data/hammer_2\")\n",
    "mesh_file = data_dir / \"object_convex_decomposition.obj\"\n",
    "mesh_o3d, mesh_trimesh, info = model_save_load.load_mesh(mesh_file, vis=False)\n",
    "render_dir = data_dir/\"renders\"\n",
    "mesh_o3d.translate(-mesh_o3d.get_center())\n",
    "object_render.scene_matching(scene_dir, render_dir, data_dir/\"depths\",mesh_o3d)"
   ]
  },
  {
   "cell_type": "code",
   "execution_count": null,
   "id": "0bb8ad54",
   "metadata": {},
   "outputs": [],
   "source": []
  }
 ],
 "metadata": {
  "kernelspec": {
   "display_name": "point_cloud",
   "language": "python",
   "name": "python3"
  },
  "language_info": {
   "codemirror_mode": {
    "name": "ipython",
    "version": 3
   },
   "file_extension": ".py",
   "mimetype": "text/x-python",
   "name": "python",
   "nbconvert_exporter": "python",
   "pygments_lexer": "ipython3",
   "version": "3.9.21"
  }
 },
 "nbformat": 4,
 "nbformat_minor": 5
}
