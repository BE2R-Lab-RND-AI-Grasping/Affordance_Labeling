{
 "cells": [
  {
   "cell_type": "code",
   "execution_count": null,
   "id": "2c654f22",
   "metadata": {},
   "outputs": [],
   "source": [
    "import numpy as np\n",
    "import importlib\n",
    "import matplotlib.pyplot as plt\n",
    "from pathlib import Path\n",
    "from src import model_save_load\n",
    "importlib.reload(model_save_load)\n",
    "from src import object_render\n",
    "\n",
    "data_dir = Path(\"./data/screwdriver\")\n",
    "mesh_file = data_dir / \"object_convex_decomposition.obj\"\n",
    "mesh_o3d, mesh_trimesh, info = model_save_load.load_mesh(mesh_file, vis=False)"
   ]
  },
  {
   "cell_type": "code",
   "execution_count": null,
   "id": "ea42050f",
   "metadata": {},
   "outputs": [],
   "source": [
    "render_dir = data_dir/\"renders\"\n",
    "mesh_o3d.translate(-mesh_o3d.get_center())# center the mesh\n",
    "path_list, directions = object_render.get_multiview_renders(mesh_o3d, render_dir) # 13 minutes for render generation"
   ]
  },
  {
   "cell_type": "code",
   "execution_count": null,
   "id": "04ffa959",
   "metadata": {},
   "outputs": [],
   "source": [
    "plt.imshow(plt.imread(path_list[10]))"
   ]
  }
 ],
 "metadata": {
  "kernelspec": {
   "display_name": "labeling_env",
   "language": "python",
   "name": "python3"
  },
  "language_info": {
   "codemirror_mode": {
    "name": "ipython",
    "version": 3
   },
   "file_extension": ".py",
   "mimetype": "text/x-python",
   "name": "python",
   "nbconvert_exporter": "python",
   "pygments_lexer": "ipython3",
   "version": "3.10.17"
  }
 },
 "nbformat": 4,
 "nbformat_minor": 5
}
