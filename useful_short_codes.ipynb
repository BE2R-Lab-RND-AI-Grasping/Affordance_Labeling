{
 "cells": [
  {
   "cell_type": "code",
   "execution_count": null,
   "id": "7155d44d",
   "metadata": {},
   "outputs": [],
   "source": [
    "# load a mesh with open3d and save it in ply ascii format\n",
    "import open3d as o3d\n",
    "mesh = o3d.io.read_triangle_mesh(\"example_1.ply\")\n",
    "o3d.io.write_triangle_mesh(\"model_ascii.ply\", mesh, write_ascii=True)\n",
    "o3d.visualization.draw_geometries([mesh])"
   ]
  }
 ],
 "metadata": {
  "language_info": {
   "name": "python"
  }
 },
 "nbformat": 4,
 "nbformat_minor": 5
}
