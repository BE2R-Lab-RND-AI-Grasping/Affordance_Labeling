{
 "cells": [
  {
   "cell_type": "code",
   "execution_count": null,
   "id": "980c925e",
   "metadata": {},
   "outputs": [],
   "source": [
    "from pathlib import Path\n",
    "import open3d as o3d\n",
    "from src.mesh_processing import process_mesh\n",
    "from src.point_cloud_utils import to_numpy_labeled, get_single_color_pcs\n",
    "import numpy as np"
   ]
  },
  {
   "cell_type": "code",
   "execution_count": null,
   "id": "1451a1cb",
   "metadata": {},
   "outputs": [],
   "source": [
    "path_to_dir = Path(\"./data/wrench\")\n",
    "process_mesh(path_to_dir)"
   ]
  },
  {
   "cell_type": "markdown",
   "id": "14ac93e6",
   "metadata": {},
   "source": [
    "The result of previous blocks is the decomposition of a mesh and a point cloud sampled from it.  \n",
    "In manual labeling the next step is to get a labeled point cloud.  "
   ]
  },
  {
   "cell_type": "code",
   "execution_count": null,
   "id": "ac8bd655",
   "metadata": {},
   "outputs": [],
   "source": [
    "colored_pc = o3d.io.read_point_cloud(path_to_dir / \"points_decomposed_labeled.ply\")\n",
    "def color_to_label(color):\n",
    "    if np.array_equal(color, np.array([255, 0, 0])):\n",
    "        return 1\n",
    "    elif np.array_equal(color, np.array([0, 255, 0])):  \n",
    "        return 2\n",
    "    else:\n",
    "        return 0\n",
    "\n",
    "labeled_array = to_numpy_labeled(colored_pc, color_to_label)\n",
    "np.save(path_to_dir / \"labeled_points.npy\", labeled_array)"
   ]
  },
  {
   "cell_type": "code",
   "execution_count": null,
   "id": "4cc4dc76",
   "metadata": {},
   "outputs": [],
   "source": [
    "pcs, colors = get_single_color_pcs(colored_pc)"
   ]
  }
 ],
 "metadata": {
  "kernelspec": {
   "display_name": "labeling_env",
   "language": "python",
   "name": "python3"
  },
  "language_info": {
   "codemirror_mode": {
    "name": "ipython",
    "version": 3
   },
   "file_extension": ".py",
   "mimetype": "text/x-python",
   "name": "python",
   "nbconvert_exporter": "python",
   "pygments_lexer": "ipython3",
   "version": "3.10.17"
  }
 },
 "nbformat": 4,
 "nbformat_minor": 5
}
