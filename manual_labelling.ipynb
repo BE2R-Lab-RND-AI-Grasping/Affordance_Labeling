{
 "cells": [
  {
   "cell_type": "code",
   "execution_count": 1,
   "id": "980c925e",
   "metadata": {},
   "outputs": [
    {
     "name": "stdout",
     "output_type": "stream",
     "text": [
      "Jupyter environment detected. Enabling Open3D WebVisualizer.\n",
      "[Open3D INFO] WebRTC GUI backend enabled.\n",
      "[Open3D INFO] WebRTCWindowSystem: HTTP handshake server disabled.\n"
     ]
    }
   ],
   "source": [
    "from pathlib import Path\n",
    "import open3d as o3d\n",
    "from src.mesh_processing import process_mesh\n",
    "from src.point_cloud_utils import to_numpy_labeled, get_single_color_pcs\n",
    "import numpy as np"
   ]
  },
  {
   "cell_type": "code",
   "execution_count": 2,
   "id": "1451a1cb",
   "metadata": {},
   "outputs": [],
   "source": [
    "path_to_dir = Path(\"./data/wrench\")\n",
    "process_mesh(path_to_dir)"
   ]
  },
  {
   "cell_type": "markdown",
   "id": "14ac93e6",
   "metadata": {},
   "source": [
    "The result of previous blocks is the decomposition of a mesh and a point cloud sampled from it.  \n",
    "In manual labeling the next step is to get a labeled point cloud.  "
   ]
  },
  {
   "cell_type": "code",
   "execution_count": 3,
   "id": "ac8bd655",
   "metadata": {},
   "outputs": [],
   "source": [
    "colored_pc = o3d.io.read_point_cloud(path_to_dir / \"points_decomposed_labeled.ply\")\n",
    "def color_to_label(color):\n",
    "    if np.array_equal(color, np.array([255, 0, 0])):\n",
    "        return 1\n",
    "    elif np.array_equal(color, np.array([0, 255, 0])):  \n",
    "        return 2\n",
    "    else:\n",
    "        return 0\n",
    "\n",
    "labeled_array = to_numpy_labeled(colored_pc, color_to_label)\n",
    "np.save(path_to_dir / \"labeled_points.npy\", labeled_array)"
   ]
  },
  {
   "cell_type": "code",
   "execution_count": 4,
   "id": "4cc4dc76",
   "metadata": {},
   "outputs": [],
   "source": [
    "pcs, colors = get_single_color_pcs(colored_pc)"
   ]
  }
 ],
 "metadata": {
  "kernelspec": {
   "display_name": "point_cloud",
   "language": "python",
   "name": "python3"
  },
  "language_info": {
   "codemirror_mode": {
    "name": "ipython",
    "version": 3
   },
   "file_extension": ".py",
   "mimetype": "text/x-python",
   "name": "python",
   "nbconvert_exporter": "python",
   "pygments_lexer": "ipython3",
   "version": "3.12.9"
  }
 },
 "nbformat": 4,
 "nbformat_minor": 5
}
